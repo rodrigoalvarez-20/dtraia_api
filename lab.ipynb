{
 "cells": [
  {
   "cell_type": "code",
   "execution_count": 1,
   "metadata": {},
   "outputs": [],
   "source": [
    "from dtraia_llm.models.llama2 import Llama2"
   ]
  },
  {
   "cell_type": "code",
   "execution_count": 2,
   "metadata": {},
   "outputs": [
    {
     "name": "stderr",
     "output_type": "stream",
     "text": [
      "Special tokens have been added in the vocabulary, make sure the associated word embeddings are fine-tuned or trained.\n"
     ]
    },
    {
     "data": {
      "application/vnd.jupyter.widget-view+json": {
       "model_id": "6fa1dd3e3b174975aff3734bda09aa0d",
       "version_major": 2,
       "version_minor": 0
      },
      "text/plain": [
       "Loading checkpoint shards:   0%|          | 0/3 [00:00<?, ?it/s]"
      ]
     },
     "metadata": {},
     "output_type": "display_data"
    }
   ],
   "source": [
    "llama_2 = Llama2(quant=True, _4bits=True, double_quant=False, device_map=\"balanced\", custom_adapter=\"/home/ralvarez22/Documentos/dtraia/fine-tuned/Elysia/v_5/Step_100\")"
   ]
  },
  {
   "cell_type": "code",
   "execution_count": 3,
   "metadata": {},
   "outputs": [],
   "source": [
    "user_question = \"En GNS3, realiza la adición de un router y 2 PCs virtuales mediante Python.\""
   ]
  },
  {
   "cell_type": "code",
   "execution_count": 4,
   "metadata": {},
   "outputs": [],
   "source": [
    "inputs = llama_2.format_chat_prompt([], user_question)"
   ]
  },
  {
   "cell_type": "code",
   "execution_count": 5,
   "metadata": {},
   "outputs": [],
   "source": [
    "ai_response = llama_2.causal_model.generate(\n",
    "    inputs=inputs[\"input_ids\"],\n",
    "    attention_mask=inputs[\"attention_mask\"],\n",
    "    generation_config=llama_2.generation_config,\n",
    "    return_dict_in_generate=False,\n",
    "    output_scores=False\n",
    ")"
   ]
  },
  {
   "cell_type": "code",
   "execution_count": 6,
   "metadata": {},
   "outputs": [],
   "source": [
    "model_response = llama_2.tokenizer.decode(ai_response[0], skip_special_tokens=False)"
   ]
  },
  {
   "cell_type": "code",
   "execution_count": 7,
   "metadata": {},
   "outputs": [
    {
     "data": {
      "text/plain": [
       "['<s> [INST] <<SYS>>',\n",
       " 'You are a helpful assistant that can help the user in multiple tasks.',\n",
       " 'Your answers always must be in markdown format. If you generate programming code, you have to specify the programming language name at the start of the markdown text.',\n",
       " '<</SYS>>',\n",
       " '',\n",
       " 'En GNS3, realiza la adición de un router y 2 PCs virtuales mediante Python. [/INST]',\n",
       " '```python',\n",
       " 'import requests',\n",
       " 'from uuid import uuid4',\n",
       " 'import json',\n",
       " 'GNS3_URL = \"http://127.0.0.1:3080/v2\"',\n",
       " 'GNS3_TEMPLATES = {',\n",
       " '    \"router\": \"61909209-f885-40e9-9922-b1e9e03d2034\",',\n",
       " '    \"switch\": \"1966b864-93e7-32d5-965f-001384eec461\",',\n",
       " '    \"vpc\": \"19021f99-e36f-394d-b4a1-8aaa902ab9cc\"',\n",
       " '}',\n",
       " 'gns3_session = requests.Session()',\n",
       " 'gns3_session.headers[\"Content-Type\"] = \"application/json\"',\n",
       " '# Agregar un router',\n",
       " 'def add_router(n, pid):',\n",
       " '    routers_response = []',\n",
       " '    for _ in range(n):',\n",
       " '        router_data = {',\n",
       " '            \"x\": 0,',\n",
       " '            \"y\": 0,',\n",
       " '            \"compute_id\": \"local\"',\n",
       " '        }',\n",
       " '        router_url = GNS3_URL + \"/projects/{}/templates/{}\".format(pid, GNS3_TEMPLATES[\"router\"])',\n",
       " '        add_router_response = gns3_session.post(router_url, json=router_data)',\n",
       " '        if add_router_response.status_code != 201:',\n",
       " '            raise Exception(\"Ha ocurrido una excepcion: {}\".format(json.dumps(new_proj_response.json())))',\n",
       " '        device_info = add_router_response.json()',\n",
       " '        routers_response.append(device_info)',\n",
       " '        print(\"Respuesta: {}\".format(json.dumps(device_info)))',\n",
       " '        # Cambiar tarjetas de red',\n",
       " '        nic_url = \"{}/compute/projects/{}/dynamips/nodes/{}\".format(GNS3_URL, pid, device_info[\"node_id\"])',\n",
       " '        nic_params = {',\n",
       " '            \"slot1\": \"PA-2FE-TX\",',\n",
       " '            \"slot2\": \"PA-2FE-TX\",',\n",
       " '            \"slot3\": \"PA-2FE-TX\",',\n",
       " '            \"slot4\": \"PA-2FE-TX\"',\n",
       " '        }',\n",
       " '        gns3_session.put(nic_url, json=nic_params)',\n",
       " '    return routers_response',\n",
       " '# Agregar VirtualPC',\n",
       " 'def add_virtualpc(n, pid):',\n",
       " '    added_vpcs = []',\n",
       " '    for _ in range(n):',\n",
       " '        router_data = {',\n",
       " '            \"x\": 0,',\n",
       " '            \"y\": 0,',\n",
       " '            \"compute_id\": \"local\"',\n",
       " '        }',\n",
       " '        router_url = GNS3_URL + \"/projects/{}/templates/{}\".format(pid, GNS3_TEMPLATES[\"vpc\"])',\n",
       " '        add_router_response = gns3_session.post(router_url, json=router_data)',\n",
       " '        if add_router_response.status_code != 201:',\n",
       " '            raise Exception(\"Ha ocurrido una excepcion: {}\".format(json.dumps(new_proj_response.json())))',\n",
       " '        device_info = add_router_response.json()',\n",
       " '        added_vpcs.append(device_info)',\n",
       " '        print(\"Respuesta: {}\".format(json.dumps(device_info)))',\n",
       " '    return added_vpcs',\n",
       " '# Crear un nuevo proyecto',\n",
       " 'project_config = {',\n",
       " '    \"name\": uuid4().hex[:12]',\n",
       " '}',\n",
       " 'new_proj_response = gns3_session.post(GNS3_URL + \"/projects\", json=project_config)',\n",
       " 'if new_proj_response.status_code != 201:',\n",
       " \"    raise Exception('Ha ocurrido una excepcion: {}'.format(json.dumps(new_proj_response.json())))\",\n",
       " 'project_info = new_proj_response.json()',\n",
       " 'project_id = project_info[\"project_id\"]',\n",
       " 'print(\"Proyecto: {}\".format(project_config[\"name\"]))',\n",
       " \"print('Respuesta: {}'.format(json.dumps(project_info)))\",\n",
       " 'added_routers = add_router(3, project_id)',\n",
       " 'added_vpcs = add_virtualpc(2, project_id)',\n",
       " '```</s>']"
      ]
     },
     "execution_count": 7,
     "metadata": {},
     "output_type": "execute_result"
    }
   ],
   "source": [
    "model_response.splitlines()"
   ]
  },
  {
   "cell_type": "code",
   "execution_count": 8,
   "metadata": {},
   "outputs": [],
   "source": [
    "model_response = model_response.split(user_question)[-1].strip().split(\"[/INST]\")[-1]\n",
    "    \n",
    "if model_response.startswith(\"\\n\\n\"):\n",
    "    model_response = model_response[2:]\n",
    "    \n",
    "model_response = model_response.strip(\"\\n\")"
   ]
  },
  {
   "cell_type": "code",
   "execution_count": 10,
   "metadata": {},
   "outputs": [
    {
     "data": {
      "text/plain": [
       "['```python',\n",
       " 'import requests',\n",
       " 'from uuid import uuid4',\n",
       " 'import json',\n",
       " 'GNS3_URL = \"http://127.0.0.1:3080/v2\"',\n",
       " 'GNS3_TEMPLATES = {',\n",
       " '    \"router\": \"61909209-f885-40e9-9922-b1e9e03d2034\",',\n",
       " '    \"switch\": \"1966b864-93e7-32d5-965f-001384eec461\",',\n",
       " '    \"vpc\": \"19021f99-e36f-394d-b4a1-8aaa902ab9cc\"',\n",
       " '}',\n",
       " 'gns3_session = requests.Session()',\n",
       " 'gns3_session.headers[\"Content-Type\"] = \"application/json\"',\n",
       " '# Agregar un router',\n",
       " 'def add_router(n, pid):',\n",
       " '    routers_response = []',\n",
       " '    for _ in range(n):',\n",
       " '        router_data = {',\n",
       " '            \"x\": 0,',\n",
       " '            \"y\": 0,',\n",
       " '            \"compute_id\": \"local\"',\n",
       " '        }',\n",
       " '        router_url = GNS3_URL + \"/projects/{}/templates/{}\".format(pid, GNS3_TEMPLATES[\"router\"])',\n",
       " '        add_router_response = gns3_session.post(router_url, json=router_data)',\n",
       " '        if add_router_response.status_code != 201:',\n",
       " '            raise Exception(\"Ha ocurrido una excepcion: {}\".format(json.dumps(new_proj_response.json())))',\n",
       " '        device_info = add_router_response.json()',\n",
       " '        routers_response.append(device_info)',\n",
       " '        print(\"Respuesta: {}\".format(json.dumps(device_info)))',\n",
       " '        # Cambiar tarjetas de red',\n",
       " '        nic_url = \"{}/compute/projects/{}/dynamips/nodes/{}\".format(GNS3_URL, pid, device_info[\"node_id\"])',\n",
       " '        nic_params = {',\n",
       " '            \"slot1\": \"PA-2FE-TX\",',\n",
       " '            \"slot2\": \"PA-2FE-TX\",',\n",
       " '            \"slot3\": \"PA-2FE-TX\",',\n",
       " '            \"slot4\": \"PA-2FE-TX\"',\n",
       " '        }',\n",
       " '        gns3_session.put(nic_url, json=nic_params)',\n",
       " '    return routers_response',\n",
       " '# Agregar VirtualPC',\n",
       " 'def add_virtualpc(n, pid):',\n",
       " '    added_vpcs = []',\n",
       " '    for _ in range(n):',\n",
       " '        router_data = {',\n",
       " '            \"x\": 0,',\n",
       " '            \"y\": 0,',\n",
       " '            \"compute_id\": \"local\"',\n",
       " '        }',\n",
       " '        router_url = GNS3_URL + \"/projects/{}/templates/{}\".format(pid, GNS3_TEMPLATES[\"vpc\"])',\n",
       " '        add_router_response = gns3_session.post(router_url, json=router_data)',\n",
       " '        if add_router_response.status_code != 201:',\n",
       " '            raise Exception(\"Ha ocurrido una excepcion: {}\".format(json.dumps(new_proj_response.json())))',\n",
       " '        device_info = add_router_response.json()',\n",
       " '        added_vpcs.append(device_info)',\n",
       " '        print(\"Respuesta: {}\".format(json.dumps(device_info)))',\n",
       " '    return added_vpcs',\n",
       " '# Crear un nuevo proyecto',\n",
       " 'project_config = {',\n",
       " '    \"name\": uuid4().hex[:12]',\n",
       " '}',\n",
       " 'new_proj_response = gns3_session.post(GNS3_URL + \"/projects\", json=project_config)',\n",
       " 'if new_proj_response.status_code != 201:',\n",
       " \"    raise Exception('Ha ocurrido una excepcion: {}'.format(json.dumps(new_proj_response.json())))\",\n",
       " 'project_info = new_proj_response.json()',\n",
       " 'project_id = project_info[\"project_id\"]',\n",
       " 'print(\"Proyecto: {}\".format(project_config[\"name\"]))',\n",
       " \"print('Respuesta: {}'.format(json.dumps(project_info)))\",\n",
       " 'added_routers = add_router(3, project_id)',\n",
       " 'added_vpcs = add_virtualpc(2, project_id)',\n",
       " '```</s>']"
      ]
     },
     "execution_count": 10,
     "metadata": {},
     "output_type": "execute_result"
    },
    {
     "ename": "",
     "evalue": "",
     "output_type": "error",
     "traceback": [
      "\u001b[1;31mEl Kernel se bloqueó al ejecutar código en la celda actual o en una celda anterior. Revise el código de las celdas para identificar una posible causa del error. Haga clic <a href='https://aka.ms/vscodeJupyterKernelCrash'>aquí</a> para obtener más información. Vea el [registro] de Jupyter (command:jupyter.viewOutput) para obtener más detalles."
     ]
    }
   ],
   "source": [
    "model_response.splitlines()"
   ]
  }
 ],
 "metadata": {
  "kernelspec": {
   "display_name": "venv",
   "language": "python",
   "name": "python3"
  },
  "language_info": {
   "codemirror_mode": {
    "name": "ipython",
    "version": 3
   },
   "file_extension": ".py",
   "mimetype": "text/x-python",
   "name": "python",
   "nbconvert_exporter": "python",
   "pygments_lexer": "ipython3",
   "version": "3.11.2"
  }
 },
 "nbformat": 4,
 "nbformat_minor": 2
}
