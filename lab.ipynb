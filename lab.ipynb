{
 "cells": [
  {
   "cell_type": "code",
   "execution_count": 11,
   "metadata": {},
   "outputs": [],
   "source": [
    "from Crypto.Cipher import PKCS1_OAEP\n",
    "from Crypto.PublicKey import RSA\n",
    "from Crypto.Hash import SHA256\n",
    "from base64 import b64decode\n",
    "import os"
   ]
  },
  {
   "cell_type": "code",
   "execution_count": 19,
   "metadata": {},
   "outputs": [],
   "source": [
    "enc_pwd = \"n5arO+mBssAqbaGJlA0UZBFYpihHTNLefQmhihCKW8aeTaUxIro0xX76nWb/wJKp0PPuOJQEBaUxl7mH1Dpen/6ckivQ1GZmH4Ect/2nGfuQ71iC+lAFMxo4821bOOSiVm9+i4O4kbSDEZRC6eE1GUi3nqE3nmBzUUtPn4uFpz5UQAOOGH9mtTR75sP3SzkKWqdUe5Il5XSU7GfTGfPCd2Pu1UhRA6ikJmwlONUi2w1LcpFFhdoLyt2BoQFVmkFsa/FTXSAeMunMvi8ZtKpGu1zBTJl9QULYkcynb0Ufp+LYO5nbWbDKGkQd41nYThYkCxabyfrVoa4Le9qol0chkA==\""
   ]
  },
  {
   "cell_type": "code",
   "execution_count": 13,
   "metadata": {},
   "outputs": [],
   "source": [
    "KEYS_DIR = os.environ[\"KEYS_DIR\"] if \"KEYS_DIR\" in os.environ else \"{}/keys\".format(os.getcwd())"
   ]
  },
  {
   "cell_type": "code",
   "execution_count": null,
   "metadata": {},
   "outputs": [],
   "source": [
    "KEYS_DIR"
   ]
  },
  {
   "cell_type": "code",
   "execution_count": 14,
   "metadata": {},
   "outputs": [],
   "source": [
    "pvp = KEYS_DIR + \"/dtraia_priv.pem\""
   ]
  },
  {
   "cell_type": "code",
   "execution_count": 15,
   "metadata": {},
   "outputs": [],
   "source": [
    "private_key = RSA.import_key(open(pvp).read())\n"
   ]
  },
  {
   "cell_type": "code",
   "execution_count": 16,
   "metadata": {},
   "outputs": [],
   "source": [
    "cipher_rsa = PKCS1_OAEP.new(private_key, hashAlgo=SHA256)"
   ]
  },
  {
   "cell_type": "code",
   "execution_count": 20,
   "metadata": {},
   "outputs": [],
   "source": [
    "session_key = cipher_rsa.decrypt(b64decode(enc_pwd))\n"
   ]
  },
  {
   "cell_type": "code",
   "execution_count": 18,
   "metadata": {},
   "outputs": [
    {
     "data": {
      "text/plain": [
       "b'a55e67b1854b47d861cbb2211521bda6978391917fb6105968e19d549ff2b623'"
      ]
     },
     "execution_count": 18,
     "metadata": {},
     "output_type": "execute_result"
    }
   ],
   "source": [
    "session_key"
   ]
  }
 ],
 "metadata": {
  "kernelspec": {
   "display_name": "venv",
   "language": "python",
   "name": "python3"
  },
  "language_info": {
   "codemirror_mode": {
    "name": "ipython",
    "version": 3
   },
   "file_extension": ".py",
   "mimetype": "text/x-python",
   "name": "python",
   "nbconvert_exporter": "python",
   "pygments_lexer": "ipython3",
   "version": "3.11.2"
  }
 },
 "nbformat": 4,
 "nbformat_minor": 2
}
