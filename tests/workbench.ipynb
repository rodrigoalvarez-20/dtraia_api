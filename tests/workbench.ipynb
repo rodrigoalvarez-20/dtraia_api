{
 "cells": [
  {
   "cell_type": "code",
   "execution_count": 1,
   "metadata": {},
   "outputs": [],
   "source": [
    "\n",
    "import socket\n",
    "import requests\n",
    "import os\n",
    "import subprocess\n",
    "import json\n",
    "from uuid import uuid4\n",
    "import pexpect"
   ]
  },
  {
   "cell_type": "code",
   "execution_count": 2,
   "metadata": {},
   "outputs": [],
   "source": [
    "SERVER_IP = json.loads(subprocess.run([\"ip\", \"-j\", \"addr\"], stdout=subprocess.PIPE).stdout.decode(\"utf-8\"))[1][\"addr_info\"][0][\"local\"]"
   ]
  },
  {
   "cell_type": "code",
   "execution_count": 3,
   "metadata": {},
   "outputs": [],
   "source": [
    "GNS3_PORT = 3080\n",
    "GNS3_URL = \"http://{}:{}/v2\".format(SERVER_IP, str(GNS3_PORT))\n",
    "GNS3_TOKEN = \"YWRtaW46QlpUYTBtNTdiOUpuODRVaUpUNFRGVGQ5dTFrQ2h5NXlzU2lhc1ZNU0VidDdlUUtTRG40Q0NCNW11T250UUM2eA==\""
   ]
  },
  {
   "cell_type": "code",
   "execution_count": 4,
   "metadata": {},
   "outputs": [],
   "source": [
    "GNS3_ROUTES = {\n",
    "    \"version\": {\"method\": \"GET\", \"path\": \"/version\"},\n",
    "    \"templates\": {\"method\": \"GET\", \"path\": \"/templates\"},\n",
    "    \"list_projects\": {\"method\": \"GET\", \"path\": \"/projects\"},\n",
    "    \"create_project\": { \"method\": \"POST\", \"path\": \"/projects\" },\n",
    "    \"project_info\": {\"method\": \"GET\", \"path\": \"/projects/{project_id}\"},\n",
    "    \"list_project_nodes\": { \"method\": \"GET\", \"path\": \"/projects/{project_id}/nodes\" },\n",
    "    \"add_node\": { \"method\": \"POST\", \"path\": \"/projects/{project_id}/nodes\" },\n",
    "    \"start_node\": { \"method\": \"POST\", \"path\": \"/projects/{project_id}/nodes/{node_id}/start\" },\n",
    "    \"stop_node\": { \"method\": \"POST\", \"path\": \"/projects/{project_id}/nodes/{node_id}/stop\" },\n",
    "    \"add_node_with_template\": { \"method\": \"POST\", \"path\": \"/projects/{project_id}/templates/{template_id}\" },\n",
    "    \"link_node\": { \"method\": \"POST\", \"path\": \"/projects/{project_id}/links\" }\n",
    "}"
   ]
  },
  {
   "cell_type": "code",
   "execution_count": 5,
   "metadata": {},
   "outputs": [],
   "source": [
    "GNS3_TEMPLATES = {\n",
    "    \"router\": \"61909209-f885-40e9-9922-b1e9e03d2034\",\n",
    "    \"switch\": \"1966b864-93e7-32d5-965f-001384eec461\",\n",
    "    \"vpc\": \"19021f99-e36f-394d-b4a1-8aaa902ab9cc\"\n",
    "}"
   ]
  },
  {
   "cell_type": "code",
   "execution_count": 6,
   "metadata": {},
   "outputs": [],
   "source": [
    "req_session = requests.Session()\n",
    "req_session.headers[\"Authorization\"] = \"Basic {}\".format(GNS3_TOKEN)\n",
    "req_session.headers[\"Content-Type\"] = \"application/json\""
   ]
  },
  {
   "cell_type": "code",
   "execution_count": 7,
   "metadata": {},
   "outputs": [],
   "source": [
    "def gns3_request_wrapper(req_session, route_dict, path_params = {}, body_data = {}):\n",
    "    full_path = route_dict[\"path\"].format_map(path_params)\n",
    "    return req_session.request(route_dict[\"method\"], GNS3_URL + full_path, json=body_data)"
   ]
  },
  {
   "cell_type": "code",
   "execution_count": 136,
   "metadata": {},
   "outputs": [
    {
     "data": {
      "text/plain": [
       "[{'auto_delete_disks': True,\n",
       "  'builtin': False,\n",
       "  'category': 'router',\n",
       "  'compute_id': 'local',\n",
       "  'console_auto_start': False,\n",
       "  'console_type': 'telnet',\n",
       "  'default_name_format': 'R{0}',\n",
       "  'disk0': 0,\n",
       "  'disk1': 0,\n",
       "  'exec_area': 64,\n",
       "  'idlemax': 500,\n",
       "  'idlepc': '0x60796358',\n",
       "  'idlesleep': 30,\n",
       "  'image': '/home/ralvarez22/GNS3/images/IOS/c7200-a3jk9s-mz.124-25g (1) (1).image',\n",
       "  'mac_addr': '',\n",
       "  'midplane': 'vxr',\n",
       "  'mmap': True,\n",
       "  'name': 'c7200',\n",
       "  'npe': 'npe-400',\n",
       "  'nvram': 512,\n",
       "  'platform': 'c7200',\n",
       "  'private_config': '',\n",
       "  'ram': 512,\n",
       "  'slot0': 'C7200-IO-FE',\n",
       "  'slot1': '',\n",
       "  'slot2': '',\n",
       "  'slot3': '',\n",
       "  'slot4': '',\n",
       "  'slot5': '',\n",
       "  'slot6': '',\n",
       "  'sparsemem': True,\n",
       "  'startup_config': 'ios_base_startup-config.txt',\n",
       "  'symbol': ':/symbols/router.svg',\n",
       "  'system_id': 'FTX0945W0MY',\n",
       "  'template_id': '61909209-f885-40e9-9922-b1e9e03d2034',\n",
       "  'template_type': 'dynamips',\n",
       "  'usage': ''},\n",
       " {'auto_delete_disks': True,\n",
       "  'builtin': False,\n",
       "  'category': 'router',\n",
       "  'chassis': '3660',\n",
       "  'compute_id': 'local',\n",
       "  'console_auto_start': False,\n",
       "  'console_type': 'telnet',\n",
       "  'default_name_format': 'R{0}',\n",
       "  'disk0': 0,\n",
       "  'disk1': 0,\n",
       "  'exec_area': 64,\n",
       "  'idlemax': 500,\n",
       "  'idlepc': '0x606071f8',\n",
       "  'idlesleep': 30,\n",
       "  'image': '/home/ralvarez22/GNS3/images/IOS/c3660-a3jk9s-mz.124-25d (1) (1).image',\n",
       "  'iomem': 5,\n",
       "  'mac_addr': '',\n",
       "  'mmap': True,\n",
       "  'name': 'c3600',\n",
       "  'nvram': 256,\n",
       "  'platform': 'c3600',\n",
       "  'private_config': '',\n",
       "  'ram': 256,\n",
       "  'slot0': 'Leopard-2FE',\n",
       "  'slot1': '',\n",
       "  'slot2': '',\n",
       "  'slot3': '',\n",
       "  'slot4': '',\n",
       "  'slot5': '',\n",
       "  'slot6': '',\n",
       "  'sparsemem': True,\n",
       "  'startup_config': 'ios_base_startup-config.txt',\n",
       "  'symbol': ':/symbols/router.svg',\n",
       "  'system_id': 'FTX0945W0MY',\n",
       "  'template_id': 'c4b766da-ec2d-42a6-b06f-3ed21802736c',\n",
       "  'template_type': 'dynamips',\n",
       "  'usage': ''},\n",
       " {'builtin': True,\n",
       "  'category': 'guest',\n",
       "  'compute_id': None,\n",
       "  'default_name_format': 'Cloud{0}',\n",
       "  'name': 'Cloud',\n",
       "  'symbol': ':/symbols/cloud.svg',\n",
       "  'template_id': '39e257dc-8412-3174-b6b3-0ee3ed6a43e9',\n",
       "  'template_type': 'cloud'},\n",
       " {'builtin': True,\n",
       "  'category': 'guest',\n",
       "  'compute_id': None,\n",
       "  'default_name_format': 'NAT{0}',\n",
       "  'name': 'NAT',\n",
       "  'symbol': ':/symbols/cloud.svg',\n",
       "  'template_id': 'df8f4ea9-33b7-3e96-86a2-c39bc9bb649c',\n",
       "  'template_type': 'nat'},\n",
       " {'builtin': True,\n",
       "  'category': 'guest',\n",
       "  'compute_id': None,\n",
       "  'default_name_format': 'PC{0}',\n",
       "  'name': 'VPCS',\n",
       "  'properties': {'base_script_file': 'vpcs_base_config.txt'},\n",
       "  'symbol': ':/symbols/vpcs_guest.svg',\n",
       "  'template_id': '19021f99-e36f-394d-b4a1-8aaa902ab9cc',\n",
       "  'template_type': 'vpcs'},\n",
       " {'builtin': True,\n",
       "  'category': 'switch',\n",
       "  'compute_id': None,\n",
       "  'console_type': 'none',\n",
       "  'default_name_format': 'Switch{0}',\n",
       "  'name': 'Ethernet switch',\n",
       "  'symbol': ':/symbols/ethernet_switch.svg',\n",
       "  'template_id': '1966b864-93e7-32d5-965f-001384eec461',\n",
       "  'template_type': 'ethernet_switch'},\n",
       " {'builtin': True,\n",
       "  'category': 'switch',\n",
       "  'compute_id': None,\n",
       "  'default_name_format': 'Hub{0}',\n",
       "  'name': 'Ethernet hub',\n",
       "  'symbol': ':/symbols/hub.svg',\n",
       "  'template_id': 'b4503ea9-d6b6-3695-9fe4-1db3b39290b0',\n",
       "  'template_type': 'ethernet_hub'},\n",
       " {'builtin': True,\n",
       "  'category': 'switch',\n",
       "  'compute_id': None,\n",
       "  'default_name_format': 'FRSW{0}',\n",
       "  'name': 'Frame Relay switch',\n",
       "  'symbol': ':/symbols/frame_relay_switch.svg',\n",
       "  'template_id': 'dd0f6f3a-ba58-3249-81cb-a1dd88407a47',\n",
       "  'template_type': 'frame_relay_switch'},\n",
       " {'builtin': True,\n",
       "  'category': 'switch',\n",
       "  'compute_id': None,\n",
       "  'default_name_format': 'ATMSW{0}',\n",
       "  'name': 'ATM switch',\n",
       "  'symbol': ':/symbols/atm_switch.svg',\n",
       "  'template_id': 'aaa764e2-b383-300f-8a0e-3493bbfdb7d2',\n",
       "  'template_type': 'atm_switch'}]"
      ]
     },
     "execution_count": 136,
     "metadata": {},
     "output_type": "execute_result"
    }
   ],
   "source": [
    "gns3_request_wrapper(req_session, GNS3_ROUTES[\"templates\"])"
   ]
  },
  {
   "cell_type": "code",
   "execution_count": 125,
   "metadata": {},
   "outputs": [],
   "source": [
    "exec('templates_data = gns3_request_wrapper(req_session, GNS3_ROUTES[\"templates\"])')"
   ]
  },
  {
   "cell_type": "code",
   "execution_count": 128,
   "metadata": {},
   "outputs": [
    {
     "name": "stdout",
     "output_type": "stream",
     "text": [
      "[{'auto_delete_disks': True, 'builtin': False, 'category': 'router', 'compute_id': 'local', 'console_auto_start': False, 'console_type': 'telnet', 'default_name_format': 'R{0}', 'disk0': 0, 'disk1': 0, 'exec_area': 64, 'idlemax': 500, 'idlepc': '0x60796358', 'idlesleep': 30, 'image': '/home/ralvarez22/GNS3/images/IOS/c7200-a3jk9s-mz.124-25g (1) (1).image', 'mac_addr': '', 'midplane': 'vxr', 'mmap': True, 'name': 'c7200', 'npe': 'npe-400', 'nvram': 512, 'platform': 'c7200', 'private_config': '', 'ram': 512, 'slot0': 'C7200-IO-FE', 'slot1': '', 'slot2': '', 'slot3': '', 'slot4': '', 'slot5': '', 'slot6': '', 'sparsemem': True, 'startup_config': 'ios_base_startup-config.txt', 'symbol': ':/symbols/router.svg', 'system_id': 'FTX0945W0MY', 'template_id': '61909209-f885-40e9-9922-b1e9e03d2034', 'template_type': 'dynamips', 'usage': ''}, {'auto_delete_disks': True, 'builtin': False, 'category': 'router', 'chassis': '3660', 'compute_id': 'local', 'console_auto_start': False, 'console_type': 'telnet', 'default_name_format': 'R{0}', 'disk0': 0, 'disk1': 0, 'exec_area': 64, 'idlemax': 500, 'idlepc': '0x606071f8', 'idlesleep': 30, 'image': '/home/ralvarez22/GNS3/images/IOS/c3660-a3jk9s-mz.124-25d (1) (1).image', 'iomem': 5, 'mac_addr': '', 'mmap': True, 'name': 'c3600', 'nvram': 256, 'platform': 'c3600', 'private_config': '', 'ram': 256, 'slot0': 'Leopard-2FE', 'slot1': '', 'slot2': '', 'slot3': '', 'slot4': '', 'slot5': '', 'slot6': '', 'sparsemem': True, 'startup_config': 'ios_base_startup-config.txt', 'symbol': ':/symbols/router.svg', 'system_id': 'FTX0945W0MY', 'template_id': 'c4b766da-ec2d-42a6-b06f-3ed21802736c', 'template_type': 'dynamips', 'usage': ''}, {'builtin': True, 'category': 'guest', 'compute_id': None, 'default_name_format': 'Cloud{0}', 'name': 'Cloud', 'symbol': ':/symbols/cloud.svg', 'template_id': '39e257dc-8412-3174-b6b3-0ee3ed6a43e9', 'template_type': 'cloud'}, {'builtin': True, 'category': 'guest', 'compute_id': None, 'default_name_format': 'NAT{0}', 'name': 'NAT', 'symbol': ':/symbols/cloud.svg', 'template_id': 'df8f4ea9-33b7-3e96-86a2-c39bc9bb649c', 'template_type': 'nat'}, {'builtin': True, 'category': 'guest', 'compute_id': None, 'default_name_format': 'PC{0}', 'name': 'VPCS', 'properties': {'base_script_file': 'vpcs_base_config.txt'}, 'symbol': ':/symbols/vpcs_guest.svg', 'template_id': '19021f99-e36f-394d-b4a1-8aaa902ab9cc', 'template_type': 'vpcs'}, {'builtin': True, 'category': 'switch', 'compute_id': None, 'console_type': 'none', 'default_name_format': 'Switch{0}', 'name': 'Ethernet switch', 'symbol': ':/symbols/ethernet_switch.svg', 'template_id': '1966b864-93e7-32d5-965f-001384eec461', 'template_type': 'ethernet_switch'}, {'builtin': True, 'category': 'switch', 'compute_id': None, 'default_name_format': 'Hub{0}', 'name': 'Ethernet hub', 'symbol': ':/symbols/hub.svg', 'template_id': 'b4503ea9-d6b6-3695-9fe4-1db3b39290b0', 'template_type': 'ethernet_hub'}, {'builtin': True, 'category': 'switch', 'compute_id': None, 'default_name_format': 'FRSW{0}', 'name': 'Frame Relay switch', 'symbol': ':/symbols/frame_relay_switch.svg', 'template_id': 'dd0f6f3a-ba58-3249-81cb-a1dd88407a47', 'template_type': 'frame_relay_switch'}, {'builtin': True, 'category': 'switch', 'compute_id': None, 'default_name_format': 'ATMSW{0}', 'name': 'ATM switch', 'symbol': ':/symbols/atm_switch.svg', 'template_id': 'aaa764e2-b383-300f-8a0e-3493bbfdb7d2', 'template_type': 'atm_switch'}]\n"
     ]
    }
   ],
   "source": [
    "exec(\"print(templates_data.json())\")"
   ]
  },
  {
   "cell_type": "code",
   "execution_count": 123,
   "metadata": {},
   "outputs": [
    {
     "data": {
      "text/plain": [
       "{'auto_close': True,\n",
       " 'auto_open': False,\n",
       " 'auto_start': False,\n",
       " 'drawing_grid_size': 25,\n",
       " 'filename': 'Python Project.gns3',\n",
       " 'grid_size': 75,\n",
       " 'name': 'Python Project',\n",
       " 'path': '/home/ralvarez22/GNS3/projects/41376943-6534-4276-97df-47987d6fe343',\n",
       " 'project_id': '41376943-6534-4276-97df-47987d6fe343',\n",
       " 'scene_height': 1000,\n",
       " 'scene_width': 2000,\n",
       " 'show_grid': False,\n",
       " 'show_interface_labels': False,\n",
       " 'show_layers': False,\n",
       " 'snap_to_grid': False,\n",
       " 'status': 'opened',\n",
       " 'supplier': None,\n",
       " 'variables': None,\n",
       " 'zoom': 100}"
      ]
     },
     "execution_count": 123,
     "metadata": {},
     "output_type": "execute_result"
    }
   ],
   "source": [
    "gns3_request_wrapper(req_session, GNS3_ROUTES[\"create_project\"], body_data={\"name\": \"Python Project\"})"
   ]
  },
  {
   "cell_type": "code",
   "execution_count": 166,
   "metadata": {},
   "outputs": [
    {
     "data": {
      "text/plain": [
       "{'command_line': '',\n",
       " 'compute_id': 'local',\n",
       " 'console': 5000,\n",
       " 'console_auto_start': False,\n",
       " 'console_host': '0.0.0.0',\n",
       " 'console_type': 'telnet',\n",
       " 'custom_adapters': [],\n",
       " 'first_port_name': None,\n",
       " 'height': 59,\n",
       " 'label': {'rotation': 0, 'style': None, 'text': 'PC1', 'x': None, 'y': -40},\n",
       " 'locked': False,\n",
       " 'name': 'PC1',\n",
       " 'node_directory': '/home/ralvarez22/GNS3/projects/41376943-6534-4276-97df-47987d6fe343/project-files/vpcs/ef524f20-d530-42f8-8560-9c53807bf117',\n",
       " 'node_id': 'ef524f20-d530-42f8-8560-9c53807bf117',\n",
       " 'node_type': 'vpcs',\n",
       " 'port_name_format': 'Ethernet{0}',\n",
       " 'port_segment_size': 0,\n",
       " 'ports': [{'adapter_number': 0,\n",
       "   'data_link_types': {'Ethernet': 'DLT_EN10MB'},\n",
       "   'link_type': 'ethernet',\n",
       "   'name': 'Ethernet0',\n",
       "   'port_number': 0,\n",
       "   'short_name': 'e0'}],\n",
       " 'project_id': '41376943-6534-4276-97df-47987d6fe343',\n",
       " 'properties': {},\n",
       " 'status': 'stopped',\n",
       " 'symbol': ':/symbols/vpcs_guest.svg',\n",
       " 'template_id': '19021f99-e36f-394d-b4a1-8aaa902ab9cc',\n",
       " 'width': 65,\n",
       " 'x': 0,\n",
       " 'y': 0,\n",
       " 'z': 1}"
      ]
     },
     "execution_count": 166,
     "metadata": {},
     "output_type": "execute_result"
    }
   ],
   "source": [
    "path_data = {\n",
    "    \"project_id\": \"41376943-6534-4276-97df-47987d6fe343\",\n",
    "    \"template_id\": GNS3_TEMPLATES[\"vpc\"]\n",
    "}\n",
    "\n",
    "json_data = {\n",
    "    \"x\": 0,\n",
    "    \"y\": 0,\n",
    "    \"compute_id\": \"local\"\n",
    "}\n",
    "\n",
    "gns3_request_wrapper(req_session, GNS3_ROUTES[\"add_node_with_template\"], path_params=path_data, body_data=json_data).json()"
   ]
  },
  {
   "cell_type": "code",
   "execution_count": 167,
   "metadata": {},
   "outputs": [
    {
     "data": {
      "text/plain": [
       "{'command_line': None,\n",
       " 'compute_id': 'local',\n",
       " 'console': 5002,\n",
       " 'console_auto_start': False,\n",
       " 'console_host': '0.0.0.0',\n",
       " 'console_type': 'telnet',\n",
       " 'custom_adapters': [],\n",
       " 'first_port_name': None,\n",
       " 'height': 45,\n",
       " 'label': {'rotation': 0, 'style': None, 'text': 'R1', 'x': None, 'y': -32},\n",
       " 'locked': False,\n",
       " 'name': 'R1',\n",
       " 'node_directory': '/home/ralvarez22/GNS3/projects/41376943-6534-4276-97df-47987d6fe343/project-files/dynamips/b075a70e-9e4e-418c-9228-7ae2884cb7db',\n",
       " 'node_id': 'b075a70e-9e4e-418c-9228-7ae2884cb7db',\n",
       " 'node_type': 'dynamips',\n",
       " 'port_name_format': 'Ethernet{0}',\n",
       " 'port_segment_size': 0,\n",
       " 'ports': [{'adapter_number': 0,\n",
       "   'data_link_types': {'Ethernet': 'DLT_EN10MB'},\n",
       "   'link_type': 'ethernet',\n",
       "   'name': 'FastEthernet0/0',\n",
       "   'port_number': 0,\n",
       "   'short_name': 'f0/0'}],\n",
       " 'project_id': '41376943-6534-4276-97df-47987d6fe343',\n",
       " 'properties': {'auto_delete_disks': True,\n",
       "  'aux': None,\n",
       "  'clock_divisor': 4,\n",
       "  'disk0': 0,\n",
       "  'disk1': 0,\n",
       "  'dynamips_id': 1,\n",
       "  'exec_area': 64,\n",
       "  'idlemax': 500,\n",
       "  'idlepc': '0x60796358',\n",
       "  'idlesleep': 30,\n",
       "  'image': 'c7200-a3jk9s-mz.124-25g (1) (1).image',\n",
       "  'image_md5sum': '9c7cc9b3f3b3571411a7f62faaa2c036',\n",
       "  'mac_addr': 'ca01.68e4.0000',\n",
       "  'midplane': 'vxr',\n",
       "  'mmap': True,\n",
       "  'npe': 'npe-400',\n",
       "  'nvram': 512,\n",
       "  'platform': 'c7200',\n",
       "  'power_supplies': [1, 1],\n",
       "  'ram': 512,\n",
       "  'sensors': [22, 22, 22, 22],\n",
       "  'slot0': 'C7200-IO-FE',\n",
       "  'slot1': None,\n",
       "  'slot2': None,\n",
       "  'slot3': None,\n",
       "  'slot4': None,\n",
       "  'slot5': None,\n",
       "  'slot6': None,\n",
       "  'sparsemem': True,\n",
       "  'system_id': 'FTX0945W0MY',\n",
       "  'usage': ''},\n",
       " 'status': 'stopped',\n",
       " 'symbol': ':/symbols/router.svg',\n",
       " 'template_id': '61909209-f885-40e9-9922-b1e9e03d2034',\n",
       " 'width': 66,\n",
       " 'x': 0,\n",
       " 'y': 0,\n",
       " 'z': 1}"
      ]
     },
     "execution_count": 167,
     "metadata": {},
     "output_type": "execute_result"
    }
   ],
   "source": [
    "path_data = {\n",
    "    \"project_id\": \"41376943-6534-4276-97df-47987d6fe343\",\n",
    "    \"template_id\": GNS3_TEMPLATES[\"router\"]\n",
    "}\n",
    "\n",
    "json_data = {\n",
    "    \"x\": 0,\n",
    "    \"y\": 0,\n",
    "    \"compute_id\": \"local\"\n",
    "}\n",
    "\n",
    "gns3_request_wrapper(req_session, GNS3_ROUTES[\"add_node_with_template\"], path_params=path_data, body_data=json_data).json()"
   ]
  },
  {
   "cell_type": "code",
   "execution_count": 169,
   "metadata": {},
   "outputs": [
    {
     "data": {
      "text/plain": [
       "{'command_line': None,\n",
       " 'compute_id': 'local',\n",
       " 'console': 5002,\n",
       " 'console_auto_start': False,\n",
       " 'console_host': '0.0.0.0',\n",
       " 'console_type': 'telnet',\n",
       " 'custom_adapters': [],\n",
       " 'first_port_name': None,\n",
       " 'height': 45,\n",
       " 'label': {'rotation': 0,\n",
       "  'style': 'font-family: TypeWriter;font-size: 10.0;font-weight: bold;fill: #000000;fill-opacity: 1.0;',\n",
       "  'text': 'R1',\n",
       "  'x': 19,\n",
       "  'y': -25},\n",
       " 'locked': False,\n",
       " 'name': 'R1',\n",
       " 'node_directory': '/home/ralvarez22/GNS3/projects/41376943-6534-4276-97df-47987d6fe343/project-files/dynamips/b075a70e-9e4e-418c-9228-7ae2884cb7db',\n",
       " 'node_id': 'b075a70e-9e4e-418c-9228-7ae2884cb7db',\n",
       " 'node_type': 'dynamips',\n",
       " 'port_name_format': 'Ethernet{0}',\n",
       " 'port_segment_size': 0,\n",
       " 'ports': [{'adapter_number': 0,\n",
       "   'data_link_types': {'Ethernet': 'DLT_EN10MB'},\n",
       "   'link_type': 'ethernet',\n",
       "   'name': 'FastEthernet0/0',\n",
       "   'port_number': 0,\n",
       "   'short_name': 'f0/0'}],\n",
       " 'project_id': '41376943-6534-4276-97df-47987d6fe343',\n",
       " 'properties': {'auto_delete_disks': True,\n",
       "  'aux': None,\n",
       "  'clock_divisor': 4,\n",
       "  'disk0': 0,\n",
       "  'disk1': 0,\n",
       "  'dynamips_id': 1,\n",
       "  'exec_area': 64,\n",
       "  'idlemax': 500,\n",
       "  'idlepc': '0x60796358',\n",
       "  'idlesleep': 30,\n",
       "  'image': 'c7200-a3jk9s-mz.124-25g (1) (1).image',\n",
       "  'image_md5sum': '9c7cc9b3f3b3571411a7f62faaa2c036',\n",
       "  'mac_addr': 'ca01.68e4.0000',\n",
       "  'midplane': 'vxr',\n",
       "  'mmap': True,\n",
       "  'npe': 'npe-400',\n",
       "  'nvram': 512,\n",
       "  'platform': 'c7200',\n",
       "  'power_supplies': [1, 1],\n",
       "  'ram': 512,\n",
       "  'sensors': [22, 22, 22, 22],\n",
       "  'slot0': 'C7200-IO-FE',\n",
       "  'slot1': None,\n",
       "  'slot2': None,\n",
       "  'slot3': None,\n",
       "  'slot4': None,\n",
       "  'slot5': None,\n",
       "  'slot6': None,\n",
       "  'sparsemem': True,\n",
       "  'system_id': 'FTX0945W0MY',\n",
       "  'usage': ''},\n",
       " 'status': 'stopped',\n",
       " 'symbol': ':/symbols/router.svg',\n",
       " 'template_id': '61909209-f885-40e9-9922-b1e9e03d2034',\n",
       " 'width': 66,\n",
       " 'x': 91,\n",
       " 'y': 74,\n",
       " 'z': 1}"
      ]
     },
     "execution_count": 169,
     "metadata": {},
     "output_type": "execute_result"
    }
   ],
   "source": [
    "path_data = {\n",
    "    \"project_id\": \"41376943-6534-4276-97df-47987d6fe343\",\n",
    "    \"node_id\": \"b075a70e-9e4e-418c-9228-7ae2884cb7db\"\n",
    "}\n",
    "\n",
    "json_data = {}\n",
    "\n",
    "gns3_request_wrapper(req_session, GNS3_ROUTES[\"start_node\"], path_params=path_data, body_data=json_data).json()"
   ]
  },
  {
   "cell_type": "code",
   "execution_count": 8,
   "metadata": {},
   "outputs": [
    {
     "data": {
      "text/plain": [
       "'148.204.63.182'"
      ]
     },
     "execution_count": 8,
     "metadata": {},
     "output_type": "execute_result"
    }
   ],
   "source": [
    "SERVER_IP"
   ]
  },
  {
   "cell_type": "code",
   "execution_count": 114,
   "metadata": {},
   "outputs": [],
   "source": [
    "def send_command(tn : pexpect.spawn, command: str, expected_pattern = \"#\") -> str: \n",
    "    tn.sendline(command + \"\\r\\n\")\n",
    "    tn.expect(expected_pattern, timeout=10)\n",
    "    return tn.before #.decode(\"utf8\")"
   ]
  },
  {
   "cell_type": "code",
   "execution_count": 117,
   "metadata": {},
   "outputs": [],
   "source": [
    "tel = pexpect.spawn(\"telnet\", [SERVER_IP, \"5002\"], encoding=\"utf-8\")"
   ]
  },
  {
   "cell_type": "code",
   "execution_count": 119,
   "metadata": {},
   "outputs": [],
   "source": [
    "tel.after"
   ]
  },
  {
   "cell_type": "code",
   "execution_count": 121,
   "metadata": {},
   "outputs": [
    {
     "data": {
      "text/plain": [
       "['\\x07XzXT\\x08\\x08\\x08\\x08    \\x08\\x08\\x08\\x08TEERXRMTM-E-CR2OM5L-6OCCROOLpOORR\\x08 \\x08pp\\x1b]0;R1\\x07\\x1b]0;R1\\x07\\x1b]0;R1\\x07\\x08 \\x08}z',\n",
       " 'R1']"
      ]
     },
     "execution_count": 121,
     "metadata": {},
     "output_type": "execute_result"
    }
   ],
   "source": [
    "send_command(tel, \"\").splitlines()"
   ]
  },
  {
   "cell_type": "code",
   "execution_count": 123,
   "metadata": {},
   "outputs": [],
   "source": [
    "tel.close()"
   ]
  }
 ],
 "metadata": {
  "kernelspec": {
   "display_name": "venv",
   "language": "python",
   "name": "python3"
  },
  "language_info": {
   "codemirror_mode": {
    "name": "ipython",
    "version": 3
   },
   "file_extension": ".py",
   "mimetype": "text/x-python",
   "name": "python",
   "nbconvert_exporter": "python",
   "pygments_lexer": "ipython3",
   "version": "3.11.2"
  }
 },
 "nbformat": 4,
 "nbformat_minor": 2
}
