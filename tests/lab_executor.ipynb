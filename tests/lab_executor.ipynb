{
 "cells": [
  {
   "cell_type": "code",
   "execution_count": 1,
   "metadata": {},
   "outputs": [],
   "source": [
    "import subprocess\n",
    "import os\n",
    "import json"
   ]
  },
  {
   "cell_type": "code",
   "execution_count": 2,
   "metadata": {},
   "outputs": [],
   "source": [
    "exec_out = subprocess.run([\"python\", \"test_execution.py\"], stdout=subprocess.PIPE).stdout.decode()#.splitlines()"
   ]
  },
  {
   "cell_type": "code",
   "execution_count": 3,
   "metadata": {},
   "outputs": [
    {
     "data": {
      "text/plain": [
       "['Proyecto: a797f3a4063d',\n",
       " 'Respuesta: {\"auto_close\": true, \"auto_open\": false, \"auto_start\": false, \"drawing_grid_size\": 25, \"filename\": \"a797f3a4063d.gns3\", \"grid_size\": 75, \"name\": \"a797f3a4063d\", \"path\": \"/home/ralvarez22/GNS3/projects/daed8c00-f33c-4781-84c6-7d7d94259987\", \"project_id\": \"daed8c00-f33c-4781-84c6-7d7d94259987\", \"scene_height\": 1000, \"scene_width\": 2000, \"show_grid\": false, \"show_interface_labels\": false, \"show_layers\": false, \"snap_to_grid\": false, \"status\": \"opened\", \"supplier\": null, \"variables\": null, \"zoom\": 100}',\n",
       " 'Respuesta: {\"command_line\": null, \"compute_id\": \"local\", \"console\": 5000, \"console_auto_start\": false, \"console_host\": \"0.0.0.0\", \"console_type\": \"telnet\", \"custom_adapters\": [], \"first_port_name\": null, \"height\": 45, \"label\": {\"rotation\": 0, \"style\": null, \"text\": \"R1\", \"x\": null, \"y\": -32}, \"locked\": false, \"name\": \"R1\", \"node_directory\": \"/home/ralvarez22/GNS3/projects/daed8c00-f33c-4781-84c6-7d7d94259987/project-files/dynamips/16bb4fb9-7c3a-4f91-938f-2ddd5d091226\", \"node_id\": \"16bb4fb9-7c3a-4f91-938f-2ddd5d091226\", \"node_type\": \"dynamips\", \"port_name_format\": \"Ethernet{0}\", \"port_segment_size\": 0, \"ports\": [{\"adapter_number\": 0, \"data_link_types\": {\"Ethernet\": \"DLT_EN10MB\"}, \"link_type\": \"ethernet\", \"name\": \"FastEthernet0/0\", \"port_number\": 0, \"short_name\": \"f0/0\"}], \"project_id\": \"daed8c00-f33c-4781-84c6-7d7d94259987\", \"properties\": {\"auto_delete_disks\": true, \"aux\": null, \"clock_divisor\": 4, \"disk0\": 0, \"disk1\": 0, \"dynamips_id\": 1, \"exec_area\": 64, \"idlemax\": 500, \"idlepc\": \"0x60796358\", \"idlesleep\": 30, \"image\": \"c7200-a3jk9s-mz.124-25g (1) (1).image\", \"image_md5sum\": \"9c7cc9b3f3b3571411a7f62faaa2c036\", \"mac_addr\": \"ca01.96ca.0000\", \"midplane\": \"vxr\", \"mmap\": true, \"npe\": \"npe-400\", \"nvram\": 512, \"platform\": \"c7200\", \"power_supplies\": [1, 1], \"ram\": 512, \"sensors\": [22, 22, 22, 22], \"slot0\": \"C7200-IO-FE\", \"slot1\": null, \"slot2\": null, \"slot3\": null, \"slot4\": null, \"slot5\": null, \"slot6\": null, \"sparsemem\": true, \"system_id\": \"FTX0945W0MY\", \"usage\": \"\"}, \"status\": \"stopped\", \"symbol\": \":/symbols/router.svg\", \"template_id\": \"61909209-f885-40e9-9922-b1e9e03d2034\", \"width\": 66, \"x\": 0, \"y\": 0, \"z\": 1}',\n",
       " 'Respuesta: {\"command_line\": null, \"compute_id\": \"local\", \"console\": 5001, \"console_auto_start\": false, \"console_host\": \"0.0.0.0\", \"console_type\": \"telnet\", \"custom_adapters\": [], \"first_port_name\": null, \"height\": 45, \"label\": {\"rotation\": 0, \"style\": null, \"text\": \"R2\", \"x\": null, \"y\": -32}, \"locked\": false, \"name\": \"R2\", \"node_directory\": \"/home/ralvarez22/GNS3/projects/daed8c00-f33c-4781-84c6-7d7d94259987/project-files/dynamips/2407db19-f318-4fb3-98ab-435bfe06cba3\", \"node_id\": \"2407db19-f318-4fb3-98ab-435bfe06cba3\", \"node_type\": \"dynamips\", \"port_name_format\": \"Ethernet{0}\", \"port_segment_size\": 0, \"ports\": [{\"adapter_number\": 0, \"data_link_types\": {\"Ethernet\": \"DLT_EN10MB\"}, \"link_type\": \"ethernet\", \"name\": \"FastEthernet0/0\", \"port_number\": 0, \"short_name\": \"f0/0\"}], \"project_id\": \"daed8c00-f33c-4781-84c6-7d7d94259987\", \"properties\": {\"auto_delete_disks\": true, \"aux\": null, \"clock_divisor\": 4, \"disk0\": 0, \"disk1\": 0, \"dynamips_id\": 2, \"exec_area\": 64, \"idlemax\": 500, \"idlepc\": \"0x60796358\", \"idlesleep\": 30, \"image\": \"c7200-a3jk9s-mz.124-25g (1) (1).image\", \"image_md5sum\": \"9c7cc9b3f3b3571411a7f62faaa2c036\", \"mac_addr\": \"ca02.96e8.0000\", \"midplane\": \"vxr\", \"mmap\": true, \"npe\": \"npe-400\", \"nvram\": 512, \"platform\": \"c7200\", \"power_supplies\": [1, 1], \"ram\": 512, \"sensors\": [22, 22, 22, 22], \"slot0\": \"C7200-IO-FE\", \"slot1\": null, \"slot2\": null, \"slot3\": null, \"slot4\": null, \"slot5\": null, \"slot6\": null, \"sparsemem\": true, \"system_id\": \"FTX0945W0MY\", \"usage\": \"\"}, \"status\": \"stopped\", \"symbol\": \":/symbols/router.svg\", \"template_id\": \"61909209-f885-40e9-9922-b1e9e03d2034\", \"width\": 66, \"x\": 0, \"y\": 0, \"z\": 1}',\n",
       " 'Respuesta: {\"command_line\": null, \"compute_id\": \"local\", \"console\": 5002, \"console_auto_start\": false, \"console_host\": \"0.0.0.0\", \"console_type\": \"none\", \"custom_adapters\": [], \"first_port_name\": null, \"height\": 32, \"label\": {\"rotation\": 0, \"style\": null, \"text\": \"Switch1\", \"x\": null, \"y\": -26}, \"locked\": false, \"name\": \"Switch1\", \"node_directory\": null, \"node_id\": \"33323de0-09d4-4408-8697-a6bbde81ee8a\", \"node_type\": \"ethernet_switch\", \"port_name_format\": \"Ethernet{0}\", \"port_segment_size\": 0, \"ports\": [{\"adapter_number\": 0, \"data_link_types\": {\"Ethernet\": \"DLT_EN10MB\"}, \"link_type\": \"ethernet\", \"name\": \"Ethernet0\", \"port_number\": 0, \"short_name\": \"e0\"}, {\"adapter_number\": 0, \"data_link_types\": {\"Ethernet\": \"DLT_EN10MB\"}, \"link_type\": \"ethernet\", \"name\": \"Ethernet1\", \"port_number\": 1, \"short_name\": \"e1\"}, {\"adapter_number\": 0, \"data_link_types\": {\"Ethernet\": \"DLT_EN10MB\"}, \"link_type\": \"ethernet\", \"name\": \"Ethernet2\", \"port_number\": 2, \"short_name\": \"e2\"}, {\"adapter_number\": 0, \"data_link_types\": {\"Ethernet\": \"DLT_EN10MB\"}, \"link_type\": \"ethernet\", \"name\": \"Ethernet3\", \"port_number\": 3, \"short_name\": \"e3\"}, {\"adapter_number\": 0, \"data_link_types\": {\"Ethernet\": \"DLT_EN10MB\"}, \"link_type\": \"ethernet\", \"name\": \"Ethernet4\", \"port_number\": 4, \"short_name\": \"e4\"}, {\"adapter_number\": 0, \"data_link_types\": {\"Ethernet\": \"DLT_EN10MB\"}, \"link_type\": \"ethernet\", \"name\": \"Ethernet5\", \"port_number\": 5, \"short_name\": \"e5\"}, {\"adapter_number\": 0, \"data_link_types\": {\"Ethernet\": \"DLT_EN10MB\"}, \"link_type\": \"ethernet\", \"name\": \"Ethernet6\", \"port_number\": 6, \"short_name\": \"e6\"}, {\"adapter_number\": 0, \"data_link_types\": {\"Ethernet\": \"DLT_EN10MB\"}, \"link_type\": \"ethernet\", \"name\": \"Ethernet7\", \"port_number\": 7, \"short_name\": \"e7\"}], \"project_id\": \"daed8c00-f33c-4781-84c6-7d7d94259987\", \"properties\": {\"ports_mapping\": [{\"name\": \"Ethernet0\", \"port_number\": 0, \"type\": \"access\", \"vlan\": 1}, {\"name\": \"Ethernet1\", \"port_number\": 1, \"type\": \"access\", \"vlan\": 1}, {\"name\": \"Ethernet2\", \"port_number\": 2, \"type\": \"access\", \"vlan\": 1}, {\"name\": \"Ethernet3\", \"port_number\": 3, \"type\": \"access\", \"vlan\": 1}, {\"name\": \"Ethernet4\", \"port_number\": 4, \"type\": \"access\", \"vlan\": 1}, {\"name\": \"Ethernet5\", \"port_number\": 5, \"type\": \"access\", \"vlan\": 1}, {\"name\": \"Ethernet6\", \"port_number\": 6, \"type\": \"access\", \"vlan\": 1}, {\"name\": \"Ethernet7\", \"port_number\": 7, \"type\": \"access\", \"vlan\": 1}]}, \"status\": \"started\", \"symbol\": \":/symbols/ethernet_switch.svg\", \"template_id\": null, \"width\": 72, \"x\": 0, \"y\": 0, \"z\": 1}',\n",
       " 'Respuesta: {\"command_line\": null, \"compute_id\": \"local\", \"console\": 5003, \"console_auto_start\": false, \"console_host\": \"0.0.0.0\", \"console_type\": \"none\", \"custom_adapters\": [], \"first_port_name\": null, \"height\": 32, \"label\": {\"rotation\": 0, \"style\": null, \"text\": \"Switch2\", \"x\": null, \"y\": -26}, \"locked\": false, \"name\": \"Switch2\", \"node_directory\": null, \"node_id\": \"4fef4cbd-7b5a-44b3-8817-50de413a0f24\", \"node_type\": \"ethernet_switch\", \"port_name_format\": \"Ethernet{0}\", \"port_segment_size\": 0, \"ports\": [{\"adapter_number\": 0, \"data_link_types\": {\"Ethernet\": \"DLT_EN10MB\"}, \"link_type\": \"ethernet\", \"name\": \"Ethernet0\", \"port_number\": 0, \"short_name\": \"e0\"}, {\"adapter_number\": 0, \"data_link_types\": {\"Ethernet\": \"DLT_EN10MB\"}, \"link_type\": \"ethernet\", \"name\": \"Ethernet1\", \"port_number\": 1, \"short_name\": \"e1\"}, {\"adapter_number\": 0, \"data_link_types\": {\"Ethernet\": \"DLT_EN10MB\"}, \"link_type\": \"ethernet\", \"name\": \"Ethernet2\", \"port_number\": 2, \"short_name\": \"e2\"}, {\"adapter_number\": 0, \"data_link_types\": {\"Ethernet\": \"DLT_EN10MB\"}, \"link_type\": \"ethernet\", \"name\": \"Ethernet3\", \"port_number\": 3, \"short_name\": \"e3\"}, {\"adapter_number\": 0, \"data_link_types\": {\"Ethernet\": \"DLT_EN10MB\"}, \"link_type\": \"ethernet\", \"name\": \"Ethernet4\", \"port_number\": 4, \"short_name\": \"e4\"}, {\"adapter_number\": 0, \"data_link_types\": {\"Ethernet\": \"DLT_EN10MB\"}, \"link_type\": \"ethernet\", \"name\": \"Ethernet5\", \"port_number\": 5, \"short_name\": \"e5\"}, {\"adapter_number\": 0, \"data_link_types\": {\"Ethernet\": \"DLT_EN10MB\"}, \"link_type\": \"ethernet\", \"name\": \"Ethernet6\", \"port_number\": 6, \"short_name\": \"e6\"}, {\"adapter_number\": 0, \"data_link_types\": {\"Ethernet\": \"DLT_EN10MB\"}, \"link_type\": \"ethernet\", \"name\": \"Ethernet7\", \"port_number\": 7, \"short_name\": \"e7\"}], \"project_id\": \"daed8c00-f33c-4781-84c6-7d7d94259987\", \"properties\": {\"ports_mapping\": [{\"name\": \"Ethernet0\", \"port_number\": 0, \"type\": \"access\", \"vlan\": 1}, {\"name\": \"Ethernet1\", \"port_number\": 1, \"type\": \"access\", \"vlan\": 1}, {\"name\": \"Ethernet2\", \"port_number\": 2, \"type\": \"access\", \"vlan\": 1}, {\"name\": \"Ethernet3\", \"port_number\": 3, \"type\": \"access\", \"vlan\": 1}, {\"name\": \"Ethernet4\", \"port_number\": 4, \"type\": \"access\", \"vlan\": 1}, {\"name\": \"Ethernet5\", \"port_number\": 5, \"type\": \"access\", \"vlan\": 1}, {\"name\": \"Ethernet6\", \"port_number\": 6, \"type\": \"access\", \"vlan\": 1}, {\"name\": \"Ethernet7\", \"port_number\": 7, \"type\": \"access\", \"vlan\": 1}]}, \"status\": \"started\", \"symbol\": \":/symbols/ethernet_switch.svg\", \"template_id\": null, \"width\": 72, \"x\": 0, \"y\": 0, \"z\": 1}',\n",
       " 'Respuesta: {\"command_line\": \"\", \"compute_id\": \"local\", \"console\": 5004, \"console_auto_start\": false, \"console_host\": \"0.0.0.0\", \"console_type\": \"telnet\", \"custom_adapters\": [], \"first_port_name\": null, \"height\": 59, \"label\": {\"rotation\": 0, \"style\": null, \"text\": \"PC1\", \"x\": null, \"y\": -40}, \"locked\": false, \"name\": \"PC1\", \"node_directory\": \"/home/ralvarez22/GNS3/projects/daed8c00-f33c-4781-84c6-7d7d94259987/project-files/vpcs/5608dc25-deaa-44fc-8607-76c2e96107c8\", \"node_id\": \"5608dc25-deaa-44fc-8607-76c2e96107c8\", \"node_type\": \"vpcs\", \"port_name_format\": \"Ethernet{0}\", \"port_segment_size\": 0, \"ports\": [{\"adapter_number\": 0, \"data_link_types\": {\"Ethernet\": \"DLT_EN10MB\"}, \"link_type\": \"ethernet\", \"name\": \"Ethernet0\", \"port_number\": 0, \"short_name\": \"e0\"}], \"project_id\": \"daed8c00-f33c-4781-84c6-7d7d94259987\", \"properties\": {}, \"status\": \"stopped\", \"symbol\": \":/symbols/vpcs_guest.svg\", \"template_id\": null, \"width\": 65, \"x\": 0, \"y\": 0, \"z\": 1}',\n",
       " 'Respuesta: {\"command_line\": \"\", \"compute_id\": \"local\", \"console\": 5006, \"console_auto_start\": false, \"console_host\": \"0.0.0.0\", \"console_type\": \"telnet\", \"custom_adapters\": [], \"first_port_name\": null, \"height\": 59, \"label\": {\"rotation\": 0, \"style\": null, \"text\": \"PC2\", \"x\": null, \"y\": -40}, \"locked\": false, \"name\": \"PC2\", \"node_directory\": \"/home/ralvarez22/GNS3/projects/daed8c00-f33c-4781-84c6-7d7d94259987/project-files/vpcs/ada7e3b7-fc17-4530-b05c-bc6fac1a0a54\", \"node_id\": \"ada7e3b7-fc17-4530-b05c-bc6fac1a0a54\", \"node_type\": \"vpcs\", \"port_name_format\": \"Ethernet{0}\", \"port_segment_size\": 0, \"ports\": [{\"adapter_number\": 0, \"data_link_types\": {\"Ethernet\": \"DLT_EN10MB\"}, \"link_type\": \"ethernet\", \"name\": \"Ethernet0\", \"port_number\": 0, \"short_name\": \"e0\"}], \"project_id\": \"daed8c00-f33c-4781-84c6-7d7d94259987\", \"properties\": {}, \"status\": \"stopped\", \"symbol\": \":/symbols/vpcs_guest.svg\", \"template_id\": null, \"width\": 65, \"x\": 0, \"y\": 0, \"z\": 1}',\n",
       " 'Respuesta: {\"command_line\": \"\", \"compute_id\": \"local\", \"console\": 5008, \"console_auto_start\": false, \"console_host\": \"0.0.0.0\", \"console_type\": \"telnet\", \"custom_adapters\": [], \"first_port_name\": null, \"height\": 59, \"label\": {\"rotation\": 0, \"style\": null, \"text\": \"PC3\", \"x\": null, \"y\": -40}, \"locked\": false, \"name\": \"PC3\", \"node_directory\": \"/home/ralvarez22/GNS3/projects/daed8c00-f33c-4781-84c6-7d7d94259987/project-files/vpcs/9fab31f0-2f1a-49f3-b377-ab1bb91ea039\", \"node_id\": \"9fab31f0-2f1a-49f3-b377-ab1bb91ea039\", \"node_type\": \"vpcs\", \"port_name_format\": \"Ethernet{0}\", \"port_segment_size\": 0, \"ports\": [{\"adapter_number\": 0, \"data_link_types\": {\"Ethernet\": \"DLT_EN10MB\"}, \"link_type\": \"ethernet\", \"name\": \"Ethernet0\", \"port_number\": 0, \"short_name\": \"e0\"}], \"project_id\": \"daed8c00-f33c-4781-84c6-7d7d94259987\", \"properties\": {}, \"status\": \"stopped\", \"symbol\": \":/symbols/vpcs_guest.svg\", \"template_id\": null, \"width\": 65, \"x\": 0, \"y\": 0, \"z\": 1}',\n",
       " 'Respuesta: {\"capture_compute_id\": null, \"capture_file_name\": null, \"capture_file_path\": null, \"capturing\": false, \"filters\": {}, \"link_id\": \"c0306f64-210e-4cfe-a3e4-9d9d52ca5e2f\", \"link_style\": {}, \"link_type\": \"ethernet\", \"nodes\": [{\"adapter_number\": 0, \"label\": {\"style\": \"font-family: TypeWriter;font-size: 10.0;font-weight: bold;fill: #000000;fill-opacity: 1.0;\", \"text\": \"0/0\"}, \"node_id\": \"16bb4fb9-7c3a-4f91-938f-2ddd5d091226\", \"port_number\": 0}, {\"adapter_number\": 0, \"label\": {\"style\": \"font-family: TypeWriter;font-size: 10.0;font-weight: bold;fill: #000000;fill-opacity: 1.0;\", \"text\": \"0/0\"}, \"node_id\": \"33323de0-09d4-4408-8697-a6bbde81ee8a\", \"port_number\": 0}], \"project_id\": \"daed8c00-f33c-4781-84c6-7d7d94259987\", \"suspend\": false}',\n",
       " 'Respuesta: {\"capture_compute_id\": null, \"capture_file_name\": null, \"capture_file_path\": null, \"capturing\": false, \"filters\": {}, \"link_id\": \"ba35f23b-4412-4abd-bb4a-3e3163a9ff39\", \"link_style\": {}, \"link_type\": \"ethernet\", \"nodes\": [{\"adapter_number\": 0, \"label\": {\"style\": \"font-family: TypeWriter;font-size: 10.0;font-weight: bold;fill: #000000;fill-opacity: 1.0;\", \"text\": \"0/0\"}, \"node_id\": \"2407db19-f318-4fb3-98ab-435bfe06cba3\", \"port_number\": 0}, {\"adapter_number\": 0, \"label\": {\"style\": \"font-family: TypeWriter;font-size: 10.0;font-weight: bold;fill: #000000;fill-opacity: 1.0;\", \"text\": \"0/0\"}, \"node_id\": \"4fef4cbd-7b5a-44b3-8817-50de413a0f24\", \"port_number\": 0}], \"project_id\": \"daed8c00-f33c-4781-84c6-7d7d94259987\", \"suspend\": false}',\n",
       " 'Respuesta: {\"capture_compute_id\": null, \"capture_file_name\": null, \"capture_file_path\": null, \"capturing\": false, \"filters\": {}, \"link_id\": \"1f9ba8a3-9b22-47c0-a20a-c9ffe30e04bf\", \"link_style\": {}, \"link_type\": \"ethernet\", \"nodes\": [{\"adapter_number\": 0, \"label\": {\"style\": \"font-family: TypeWriter;font-size: 10.0;font-weight: bold;fill: #000000;fill-opacity: 1.0;\", \"text\": \"0/1\"}, \"node_id\": \"33323de0-09d4-4408-8697-a6bbde81ee8a\", \"port_number\": 1}, {\"adapter_number\": 0, \"label\": {\"style\": \"font-family: TypeWriter;font-size: 10.0;font-weight: bold;fill: #000000;fill-opacity: 1.0;\", \"text\": \"0/0\"}, \"node_id\": \"5608dc25-deaa-44fc-8607-76c2e96107c8\", \"port_number\": 0}], \"project_id\": \"daed8c00-f33c-4781-84c6-7d7d94259987\", \"suspend\": false}',\n",
       " 'Respuesta: {\"capture_compute_id\": null, \"capture_file_name\": null, \"capture_file_path\": null, \"capturing\": false, \"filters\": {}, \"link_id\": \"5456137d-0f7f-42a1-b662-f63cacb0a6f5\", \"link_style\": {}, \"link_type\": \"ethernet\", \"nodes\": [{\"adapter_number\": 0, \"label\": {\"style\": \"font-family: TypeWriter;font-size: 10.0;font-weight: bold;fill: #000000;fill-opacity: 1.0;\", \"text\": \"0/2\"}, \"node_id\": \"33323de0-09d4-4408-8697-a6bbde81ee8a\", \"port_number\": 2}, {\"adapter_number\": 0, \"label\": {\"style\": \"font-family: TypeWriter;font-size: 10.0;font-weight: bold;fill: #000000;fill-opacity: 1.0;\", \"text\": \"0/0\"}, \"node_id\": \"ada7e3b7-fc17-4530-b05c-bc6fac1a0a54\", \"port_number\": 0}], \"project_id\": \"daed8c00-f33c-4781-84c6-7d7d94259987\", \"suspend\": false}',\n",
       " 'Respuesta: {\"capture_compute_id\": null, \"capture_file_name\": null, \"capture_file_path\": null, \"capturing\": false, \"filters\": {}, \"link_id\": \"580be728-17d4-4b30-909e-0846674a2a9c\", \"link_style\": {}, \"link_type\": \"ethernet\", \"nodes\": [{\"adapter_number\": 0, \"label\": {\"style\": \"font-family: TypeWriter;font-size: 10.0;font-weight: bold;fill: #000000;fill-opacity: 1.0;\", \"text\": \"0/2\"}, \"node_id\": \"4fef4cbd-7b5a-44b3-8817-50de413a0f24\", \"port_number\": 2}, {\"adapter_number\": 0, \"label\": {\"style\": \"font-family: TypeWriter;font-size: 10.0;font-weight: bold;fill: #000000;fill-opacity: 1.0;\", \"text\": \"0/0\"}, \"node_id\": \"9fab31f0-2f1a-49f3-b377-ab1bb91ea039\", \"port_number\": 0}], \"project_id\": \"daed8c00-f33c-4781-84c6-7d7d94259987\", \"suspend\": false}',\n",
       " 'Respuesta: Se ha encendido el dispositivo 16bb4fb9-7c3a-4f91-938f-2ddd5d091226',\n",
       " 'Respuesta: Se ha encendido el dispositivo 2407db19-f318-4fb3-98ab-435bfe06cba3',\n",
       " 'Respuesta: Se ha encendido el dispositivo 5608dc25-deaa-44fc-8607-76c2e96107c8',\n",
       " 'Respuesta: Se ha encendido el dispositivo ada7e3b7-fc17-4530-b05c-bc6fac1a0a54',\n",
       " 'Respuesta: Se ha encendido el dispositivo 9fab31f0-2f1a-49f3-b377-ab1bb91ea039']"
      ]
     },
     "execution_count": 3,
     "metadata": {},
     "output_type": "execute_result"
    }
   ],
   "source": [
    "exec_out.splitlines()"
   ]
  },
  {
   "cell_type": "code",
   "execution_count": 3,
   "metadata": {},
   "outputs": [
    {
     "name": "stdout",
     "output_type": "stream",
     "text": [
      "```python\n",
      "import pexpect\n",
      "import requests\n",
      "from uuid import uuid4\n",
      "import json\n",
      "from time import sleep\n",
      "\n",
      "GNS3_URL = \"http://127.0.0.1:3080/v2\"\n",
      "gns3_session = requests.Session()\n",
      "gns3_session.headers[\"Content-Type\"] = \"application/json\"\n",
      "\n",
      "def exec_command(session, command):\n",
      "    session.sendline(command + \"\\r\\n\")\n",
      "    session.expect(\"#\", 10)\n",
      "    session.sendline(\"\\r\\n\")\n",
      "    session.expect(\"#\", 10)\n",
      "    \n",
      "\n",
      "# Crear un nuevo proyecto\n",
      "project_config = {\n",
      "    \"name\": uuid4().hex[:12]\n",
      "}\n",
      "new_proj_response = gns3_session.post(GNS3_URL + \"/projects\", json=project_config)\n",
      "if new_proj_response.status_code != 201:\n",
      "    raise Exception('Ha ocurrido una excepcion: {}'.format(json.dumps(new_proj_response.json())))\n",
      "project_info = new_proj_response.json()\n",
      "print('Respuesta: {}'.format(json.dumps(project_info)))\n",
      "\n",
      "# Agregar un router\n",
      "router_data = {\n",
      "    \"x\": 0,\n",
      "    \"y\": 0,\n",
      "    \"compute_id\": \"local\"\n",
      "}\n",
      "router_url = GNS3_URL + \"/projects/{}/templates/61909209-f885-40e9-9922-b1e9e03d2034\".format(project_info[\"project_id\"])\n",
      "add_router_response = gns3_session.post(router_url, json=router_data)\n",
      "if add_router_response.status_code != 201:\n",
      "    raise Exception(\"Ha ocurrido una excepcion: {}\".format(json.dumps(new_proj_response.json())))\n",
      "device_info = add_router_response.json()\n",
      "print(\"Respuesta: {}\".format(json.dumps(device_info)))\n",
      "\n",
      "# Encender router\n",
      "start_node_url = GNS3_URL + \"/projects/{}/nodes/{}/start\".format(device_info[\"project_id\"], device_info[\"node_id\"])\n",
      "start_node_response = gns3_session.post(start_node_url, json={})\n",
      "if start_node_response.status_code != 200:\n",
      "    raise Exception(\"Ha ocurrido una excepcion: {}\".format(json.dumps(start_node_response.json())))\n",
      "print(\"Respuesta: {}\".format(json.dumps(start_node_response.json())))\n",
      "\n",
      "# Mostrar configuracion del router\n",
      "device_telnet = pexpect.spawn(\"telnet\", [\"127.0.0.1\", str(device_info[\"console\"])], encoding=\"utf-8\")\n",
      "device_telnet.sendline(\"\\r\\n\")\n",
      "sleep(5)\n",
      "exec_command(device_telnet, \"terminal length 0\")\n",
      "exec_command(device_telnet, \"sh ip int br\")\n",
      "print(\"Respuesta: {}\".format(device_telnet.before))\n",
      "device_telnet.close()```\n"
     ]
    }
   ],
   "source": [
    "#with open(\"./test_execution.py\", \"r\", encoding=\"utf-8\") as f:\n",
    "#    print(\"```python\\n{}```\".format(f.read()))"
   ]
  }
 ],
 "metadata": {
  "kernelspec": {
   "display_name": "venv",
   "language": "python",
   "name": "python3"
  },
  "language_info": {
   "codemirror_mode": {
    "name": "ipython",
    "version": 3
   },
   "file_extension": ".py",
   "mimetype": "text/x-python",
   "name": "python",
   "nbconvert_exporter": "python",
   "pygments_lexer": "ipython3",
   "version": "3.11.2"
  }
 },
 "nbformat": 4,
 "nbformat_minor": 2
}
