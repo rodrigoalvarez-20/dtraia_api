{
 "cells": [
  {
   "cell_type": "code",
   "execution_count": 2,
   "metadata": {},
   "outputs": [],
   "source": [
    "import subprocess\n",
    "import os\n",
    "import json"
   ]
  },
  {
   "cell_type": "code",
   "execution_count": 194,
   "metadata": {},
   "outputs": [],
   "source": [
    "exec_out = subprocess.run([\"python\", \"test_execution.py\"], stdout=subprocess.PIPE).stdout.decode()#.splitlines()"
   ]
  },
  {
   "cell_type": "code",
   "execution_count": 195,
   "metadata": {},
   "outputs": [
    {
     "data": {
      "text/plain": [
       "['Respuesta: {\"auto_close\": true, \"auto_open\": false, \"auto_start\": false, \"drawing_grid_size\": 25, \"filename\": \"beb9911465d0.gns3\", \"grid_size\": 75, \"name\": \"beb9911465d0\", \"path\": \"/home/ralvarez22/GNS3/projects/7915c8dc-c598-4561-9b1e-660997c4fbf7\", \"project_id\": \"7915c8dc-c598-4561-9b1e-660997c4fbf7\", \"scene_height\": 1000, \"scene_width\": 2000, \"show_grid\": false, \"show_interface_labels\": false, \"show_layers\": false, \"snap_to_grid\": false, \"status\": \"opened\", \"supplier\": null, \"variables\": null, \"zoom\": 100}',\n",
       " 'Respuesta: {\"command_line\": null, \"compute_id\": \"local\", \"console\": 5447, \"console_auto_start\": false, \"console_host\": \"0.0.0.0\", \"console_type\": \"telnet\", \"custom_adapters\": [], \"first_port_name\": null, \"height\": 45, \"label\": {\"rotation\": 0, \"style\": null, \"text\": \"R1\", \"x\": null, \"y\": -32}, \"locked\": false, \"name\": \"R1\", \"node_directory\": \"/home/ralvarez22/GNS3/projects/7915c8dc-c598-4561-9b1e-660997c4fbf7/project-files/dynamips/8b7b2122-166d-474f-853a-d64d3be3cadc\", \"node_id\": \"8b7b2122-166d-474f-853a-d64d3be3cadc\", \"node_type\": \"dynamips\", \"port_name_format\": \"Ethernet{0}\", \"port_segment_size\": 0, \"ports\": [{\"adapter_number\": 0, \"data_link_types\": {\"Ethernet\": \"DLT_EN10MB\"}, \"link_type\": \"ethernet\", \"name\": \"FastEthernet0/0\", \"port_number\": 0, \"short_name\": \"f0/0\"}], \"project_id\": \"7915c8dc-c598-4561-9b1e-660997c4fbf7\", \"properties\": {\"auto_delete_disks\": true, \"aux\": null, \"clock_divisor\": 4, \"disk0\": 0, \"disk1\": 0, \"dynamips_id\": 1, \"exec_area\": 64, \"idlemax\": 500, \"idlepc\": \"0x60796358\", \"idlesleep\": 30, \"image\": \"c7200-a3jk9s-mz.124-25g (1) (1).image\", \"image_md5sum\": \"9c7cc9b3f3b3571411a7f62faaa2c036\", \"mac_addr\": \"ca01.1944.0000\", \"midplane\": \"vxr\", \"mmap\": true, \"npe\": \"npe-400\", \"nvram\": 512, \"platform\": \"c7200\", \"power_supplies\": [1, 1], \"ram\": 512, \"sensors\": [22, 22, 22, 22], \"slot0\": \"C7200-IO-FE\", \"slot1\": null, \"slot2\": null, \"slot3\": null, \"slot4\": null, \"slot5\": null, \"slot6\": null, \"sparsemem\": true, \"system_id\": \"FTX0945W0MY\", \"usage\": \"\"}, \"status\": \"stopped\", \"symbol\": \":/symbols/router.svg\", \"template_id\": \"61909209-f885-40e9-9922-b1e9e03d2034\", \"width\": 66, \"x\": 0, \"y\": 0, \"z\": 1}',\n",
       " 'Respuesta: {\"command_line\": null, \"compute_id\": \"local\", \"console\": 5448, \"console_auto_start\": false, \"console_host\": \"0.0.0.0\", \"console_type\": \"telnet\", \"custom_adapters\": [], \"first_port_name\": null, \"height\": 45, \"label\": {\"rotation\": 0, \"style\": null, \"text\": \"R2\", \"x\": null, \"y\": -32}, \"locked\": false, \"name\": \"R2\", \"node_directory\": \"/home/ralvarez22/GNS3/projects/7915c8dc-c598-4561-9b1e-660997c4fbf7/project-files/dynamips/4203be4a-f842-4157-a38c-132281d4ae10\", \"node_id\": \"4203be4a-f842-4157-a38c-132281d4ae10\", \"node_type\": \"dynamips\", \"port_name_format\": \"Ethernet{0}\", \"port_segment_size\": 0, \"ports\": [{\"adapter_number\": 0, \"data_link_types\": {\"Ethernet\": \"DLT_EN10MB\"}, \"link_type\": \"ethernet\", \"name\": \"FastEthernet0/0\", \"port_number\": 0, \"short_name\": \"f0/0\"}], \"project_id\": \"7915c8dc-c598-4561-9b1e-660997c4fbf7\", \"properties\": {\"auto_delete_disks\": true, \"aux\": null, \"clock_divisor\": 4, \"disk0\": 0, \"disk1\": 0, \"dynamips_id\": 2, \"exec_area\": 64, \"idlemax\": 500, \"idlepc\": \"0x60796358\", \"idlesleep\": 30, \"image\": \"c7200-a3jk9s-mz.124-25g (1) (1).image\", \"image_md5sum\": \"9c7cc9b3f3b3571411a7f62faaa2c036\", \"mac_addr\": \"ca02.1963.0000\", \"midplane\": \"vxr\", \"mmap\": true, \"npe\": \"npe-400\", \"nvram\": 512, \"platform\": \"c7200\", \"power_supplies\": [1, 1], \"ram\": 512, \"sensors\": [22, 22, 22, 22], \"slot0\": \"C7200-IO-FE\", \"slot1\": null, \"slot2\": null, \"slot3\": null, \"slot4\": null, \"slot5\": null, \"slot6\": null, \"sparsemem\": true, \"system_id\": \"FTX0945W0MY\", \"usage\": \"\"}, \"status\": \"stopped\", \"symbol\": \":/symbols/router.svg\", \"template_id\": \"61909209-f885-40e9-9922-b1e9e03d2034\", \"width\": 66, \"x\": 0, \"y\": 0, \"z\": 1}',\n",
       " 'Respuesta: {\"command_line\": null, \"compute_id\": \"local\", \"console\": 5449, \"console_auto_start\": false, \"console_host\": \"0.0.0.0\", \"console_type\": \"telnet\", \"custom_adapters\": [], \"first_port_name\": null, \"height\": 45, \"label\": {\"rotation\": 0, \"style\": null, \"text\": \"R3\", \"x\": null, \"y\": -32}, \"locked\": false, \"name\": \"R3\", \"node_directory\": \"/home/ralvarez22/GNS3/projects/7915c8dc-c598-4561-9b1e-660997c4fbf7/project-files/dynamips/b6910df7-8000-4959-8580-dc197ed0ef03\", \"node_id\": \"b6910df7-8000-4959-8580-dc197ed0ef03\", \"node_type\": \"dynamips\", \"port_name_format\": \"Ethernet{0}\", \"port_segment_size\": 0, \"ports\": [{\"adapter_number\": 0, \"data_link_types\": {\"Ethernet\": \"DLT_EN10MB\"}, \"link_type\": \"ethernet\", \"name\": \"FastEthernet0/0\", \"port_number\": 0, \"short_name\": \"f0/0\"}], \"project_id\": \"7915c8dc-c598-4561-9b1e-660997c4fbf7\", \"properties\": {\"auto_delete_disks\": true, \"aux\": null, \"clock_divisor\": 4, \"disk0\": 0, \"disk1\": 0, \"dynamips_id\": 3, \"exec_area\": 64, \"idlemax\": 500, \"idlepc\": \"0x60796358\", \"idlesleep\": 30, \"image\": \"c7200-a3jk9s-mz.124-25g (1) (1).image\", \"image_md5sum\": \"9c7cc9b3f3b3571411a7f62faaa2c036\", \"mac_addr\": \"ca03.1981.0000\", \"midplane\": \"vxr\", \"mmap\": true, \"npe\": \"npe-400\", \"nvram\": 512, \"platform\": \"c7200\", \"power_supplies\": [1, 1], \"ram\": 512, \"sensors\": [22, 22, 22, 22], \"slot0\": \"C7200-IO-FE\", \"slot1\": null, \"slot2\": null, \"slot3\": null, \"slot4\": null, \"slot5\": null, \"slot6\": null, \"sparsemem\": true, \"system_id\": \"FTX0945W0MY\", \"usage\": \"\"}, \"status\": \"stopped\", \"symbol\": \":/symbols/router.svg\", \"template_id\": \"61909209-f885-40e9-9922-b1e9e03d2034\", \"width\": 66, \"x\": 0, \"y\": 0, \"z\": 1}',\n",
       " 'Respuesta: {\"command_line\": null, \"compute_id\": \"local\", \"console\": 5450, \"console_auto_start\": false, \"console_host\": \"0.0.0.0\", \"console_type\": \"none\", \"custom_adapters\": [], \"first_port_name\": null, \"height\": 32, \"label\": {\"rotation\": 0, \"style\": null, \"text\": \"Switch1\", \"x\": null, \"y\": -26}, \"locked\": false, \"name\": \"Switch1\", \"node_directory\": null, \"node_id\": \"d9bea2d1-b788-4460-96a9-cb3e2b395b11\", \"node_type\": \"ethernet_switch\", \"port_name_format\": \"Ethernet{0}\", \"port_segment_size\": 0, \"ports\": [{\"adapter_number\": 0, \"data_link_types\": {\"Ethernet\": \"DLT_EN10MB\"}, \"link_type\": \"ethernet\", \"name\": \"Ethernet0\", \"port_number\": 0, \"short_name\": \"e0\"}, {\"adapter_number\": 0, \"data_link_types\": {\"Ethernet\": \"DLT_EN10MB\"}, \"link_type\": \"ethernet\", \"name\": \"Ethernet1\", \"port_number\": 1, \"short_name\": \"e1\"}, {\"adapter_number\": 0, \"data_link_types\": {\"Ethernet\": \"DLT_EN10MB\"}, \"link_type\": \"ethernet\", \"name\": \"Ethernet2\", \"port_number\": 2, \"short_name\": \"e2\"}, {\"adapter_number\": 0, \"data_link_types\": {\"Ethernet\": \"DLT_EN10MB\"}, \"link_type\": \"ethernet\", \"name\": \"Ethernet3\", \"port_number\": 3, \"short_name\": \"e3\"}, {\"adapter_number\": 0, \"data_link_types\": {\"Ethernet\": \"DLT_EN10MB\"}, \"link_type\": \"ethernet\", \"name\": \"Ethernet4\", \"port_number\": 4, \"short_name\": \"e4\"}, {\"adapter_number\": 0, \"data_link_types\": {\"Ethernet\": \"DLT_EN10MB\"}, \"link_type\": \"ethernet\", \"name\": \"Ethernet5\", \"port_number\": 5, \"short_name\": \"e5\"}, {\"adapter_number\": 0, \"data_link_types\": {\"Ethernet\": \"DLT_EN10MB\"}, \"link_type\": \"ethernet\", \"name\": \"Ethernet6\", \"port_number\": 6, \"short_name\": \"e6\"}, {\"adapter_number\": 0, \"data_link_types\": {\"Ethernet\": \"DLT_EN10MB\"}, \"link_type\": \"ethernet\", \"name\": \"Ethernet7\", \"port_number\": 7, \"short_name\": \"e7\"}], \"project_id\": \"7915c8dc-c598-4561-9b1e-660997c4fbf7\", \"properties\": {\"ports_mapping\": [{\"name\": \"Ethernet0\", \"port_number\": 0, \"type\": \"access\", \"vlan\": 1}, {\"name\": \"Ethernet1\", \"port_number\": 1, \"type\": \"access\", \"vlan\": 1}, {\"name\": \"Ethernet2\", \"port_number\": 2, \"type\": \"access\", \"vlan\": 1}, {\"name\": \"Ethernet3\", \"port_number\": 3, \"type\": \"access\", \"vlan\": 1}, {\"name\": \"Ethernet4\", \"port_number\": 4, \"type\": \"access\", \"vlan\": 1}, {\"name\": \"Ethernet5\", \"port_number\": 5, \"type\": \"access\", \"vlan\": 1}, {\"name\": \"Ethernet6\", \"port_number\": 6, \"type\": \"access\", \"vlan\": 1}, {\"name\": \"Ethernet7\", \"port_number\": 7, \"type\": \"access\", \"vlan\": 1}]}, \"status\": \"started\", \"symbol\": \":/symbols/ethernet_switch.svg\", \"template_id\": \"1966b864-93e7-32d5-965f-001384eec461\", \"width\": 72, \"x\": 0, \"y\": 0, \"z\": 1}',\n",
       " 'Respuesta: {\"command_line\": null, \"compute_id\": \"local\", \"console\": 5451, \"console_auto_start\": false, \"console_host\": \"0.0.0.0\", \"console_type\": \"none\", \"custom_adapters\": [], \"first_port_name\": null, \"height\": 32, \"label\": {\"rotation\": 0, \"style\": null, \"text\": \"Switch2\", \"x\": null, \"y\": -26}, \"locked\": false, \"name\": \"Switch2\", \"node_directory\": null, \"node_id\": \"7271f405-7620-46e0-a83b-3f9b15a35d00\", \"node_type\": \"ethernet_switch\", \"port_name_format\": \"Ethernet{0}\", \"port_segment_size\": 0, \"ports\": [{\"adapter_number\": 0, \"data_link_types\": {\"Ethernet\": \"DLT_EN10MB\"}, \"link_type\": \"ethernet\", \"name\": \"Ethernet0\", \"port_number\": 0, \"short_name\": \"e0\"}, {\"adapter_number\": 0, \"data_link_types\": {\"Ethernet\": \"DLT_EN10MB\"}, \"link_type\": \"ethernet\", \"name\": \"Ethernet1\", \"port_number\": 1, \"short_name\": \"e1\"}, {\"adapter_number\": 0, \"data_link_types\": {\"Ethernet\": \"DLT_EN10MB\"}, \"link_type\": \"ethernet\", \"name\": \"Ethernet2\", \"port_number\": 2, \"short_name\": \"e2\"}, {\"adapter_number\": 0, \"data_link_types\": {\"Ethernet\": \"DLT_EN10MB\"}, \"link_type\": \"ethernet\", \"name\": \"Ethernet3\", \"port_number\": 3, \"short_name\": \"e3\"}, {\"adapter_number\": 0, \"data_link_types\": {\"Ethernet\": \"DLT_EN10MB\"}, \"link_type\": \"ethernet\", \"name\": \"Ethernet4\", \"port_number\": 4, \"short_name\": \"e4\"}, {\"adapter_number\": 0, \"data_link_types\": {\"Ethernet\": \"DLT_EN10MB\"}, \"link_type\": \"ethernet\", \"name\": \"Ethernet5\", \"port_number\": 5, \"short_name\": \"e5\"}, {\"adapter_number\": 0, \"data_link_types\": {\"Ethernet\": \"DLT_EN10MB\"}, \"link_type\": \"ethernet\", \"name\": \"Ethernet6\", \"port_number\": 6, \"short_name\": \"e6\"}, {\"adapter_number\": 0, \"data_link_types\": {\"Ethernet\": \"DLT_EN10MB\"}, \"link_type\": \"ethernet\", \"name\": \"Ethernet7\", \"port_number\": 7, \"short_name\": \"e7\"}], \"project_id\": \"7915c8dc-c598-4561-9b1e-660997c4fbf7\", \"properties\": {\"ports_mapping\": [{\"name\": \"Ethernet0\", \"port_number\": 0, \"type\": \"access\", \"vlan\": 1}, {\"name\": \"Ethernet1\", \"port_number\": 1, \"type\": \"access\", \"vlan\": 1}, {\"name\": \"Ethernet2\", \"port_number\": 2, \"type\": \"access\", \"vlan\": 1}, {\"name\": \"Ethernet3\", \"port_number\": 3, \"type\": \"access\", \"vlan\": 1}, {\"name\": \"Ethernet4\", \"port_number\": 4, \"type\": \"access\", \"vlan\": 1}, {\"name\": \"Ethernet5\", \"port_number\": 5, \"type\": \"access\", \"vlan\": 1}, {\"name\": \"Ethernet6\", \"port_number\": 6, \"type\": \"access\", \"vlan\": 1}, {\"name\": \"Ethernet7\", \"port_number\": 7, \"type\": \"access\", \"vlan\": 1}]}, \"status\": \"started\", \"symbol\": \":/symbols/ethernet_switch.svg\", \"template_id\": \"1966b864-93e7-32d5-965f-001384eec461\", \"width\": 72, \"x\": 0, \"y\": 0, \"z\": 1}',\n",
       " 'Respuesta: {\"command_line\": \"\", \"compute_id\": \"local\", \"console\": 5452, \"console_auto_start\": false, \"console_host\": \"0.0.0.0\", \"console_type\": \"telnet\", \"custom_adapters\": [], \"first_port_name\": null, \"height\": 59, \"label\": {\"rotation\": 0, \"style\": null, \"text\": \"PC1\", \"x\": null, \"y\": -40}, \"locked\": false, \"name\": \"PC1\", \"node_directory\": \"/home/ralvarez22/GNS3/projects/7915c8dc-c598-4561-9b1e-660997c4fbf7/project-files/vpcs/21f38e06-7cea-4cfd-9015-9f07067608fb\", \"node_id\": \"21f38e06-7cea-4cfd-9015-9f07067608fb\", \"node_type\": \"vpcs\", \"port_name_format\": \"Ethernet{0}\", \"port_segment_size\": 0, \"ports\": [{\"adapter_number\": 0, \"data_link_types\": {\"Ethernet\": \"DLT_EN10MB\"}, \"link_type\": \"ethernet\", \"name\": \"Ethernet0\", \"port_number\": 0, \"short_name\": \"e0\"}], \"project_id\": \"7915c8dc-c598-4561-9b1e-660997c4fbf7\", \"properties\": {}, \"status\": \"stopped\", \"symbol\": \":/symbols/vpcs_guest.svg\", \"template_id\": \"19021f99-e36f-394d-b4a1-8aaa902ab9cc\", \"width\": 65, \"x\": 0, \"y\": 0, \"z\": 1}']"
      ]
     },
     "execution_count": 195,
     "metadata": {},
     "output_type": "execute_result"
    }
   ],
   "source": [
    "exec_out.splitlines()"
   ]
  },
  {
   "cell_type": "code",
   "execution_count": 196,
   "metadata": {},
   "outputs": [
    {
     "name": "stdout",
     "output_type": "stream",
     "text": [
      "```python\n",
      "import requests\n",
      "from uuid import uuid4\n",
      "import json\n",
      "GNS3_URL = \"http://127.0.0.1:3080/v2\"\n",
      "GNS3_TEMPLATES = {\n",
      "    \"router\": \"61909209-f885-40e9-9922-b1e9e03d2034\",\n",
      "    \"switch\": \"1966b864-93e7-32d5-965f-001384eec461\",\n",
      "    \"vpc\": \"19021f99-e36f-394d-b4a1-8aaa902ab9cc\"\n",
      "}\n",
      "gns3_session = requests.Session()\n",
      "gns3_session.headers[\"Content-Type\"] = \"application/json\"\n",
      "# Agregar un router\n",
      "def add_router(n):\n",
      "    for _ in range(n):\n",
      "        router_data = {\n",
      "            \"x\": 0,\n",
      "            \"y\": 0,\n",
      "            \"compute_id\": \"local\"\n",
      "        }\n",
      "        router_url = GNS3_URL + \"/projects/{}/templates/61909209-f885-40e9-9922-b1e9e03d2034\".format(project_info[\"project_id\"])\n",
      "        add_router_response = gns3_session.post(router_url, json=router_data)\n",
      "        if add_router_response.status_code != 201:\n",
      "            raise Exception(\"Ha ocurrido una excepcion: {}\".format(json.dumps(new_proj_response.json())))\n",
      "        device_info = add_router_response.json()\n",
      "        print(\"Respuesta: {}\".format(json.dumps(device_info)))\n",
      "# Agregar switches\n",
      "def add_switch(n):\n",
      "    for _ in range(n):\n",
      "        switch_data = {\n",
      "            \"x\": 0,\n",
      "            \"y\": 0,\n",
      "            \"compute_id\": \"local\"\n",
      "        }\n",
      "        router_url = GNS3_URL + \"/projects/{}/templates/{}\".format(project_info[\"project_id\"], GNS3_TEMPLATES[\"switch\"])\n",
      "        add_router_response = gns3_session.post(router_url, json=switch_data)\n",
      "        if add_router_response.status_code != 201:\n",
      "            raise Exception(\"Ha ocurrido una excepcion: {}\".format(json.dumps(new_proj_response.json())))\n",
      "        device_info = add_router_response.json()\n",
      "        print(\"Respuesta: {}\".format(json.dumps(device_info)))\n",
      "        \n",
      "# Agregar VirtualPC\n",
      "def add_virtualpc(n):\n",
      "    for _ in range(n):\n",
      "        router_data = {\n",
      "            \"x\": 0,\n",
      "            \"y\": 0,\n",
      "            \"compute_id\": \"local\"\n",
      "        }\n",
      "        router_url = GNS3_URL + \"/projects/{}/templates/{}\".format(project_info[\"project_id\"], GNS3_TEMPLATES[\"vpc\"])\n",
      "        add_router_response = gns3_session.post(router_url, json=router_data)\n",
      "        if add_router_response.status_code != 201:\n",
      "            raise Exception(\"Ha ocurrido una excepcion: {}\".format(json.dumps(new_proj_response.json())))\n",
      "        device_info = add_router_response.json()\n",
      "        print(\"Respuesta: {}\".format(json.dumps(device_info)))\n",
      "# Crear un nuevo proyecto\n",
      "project_config = {\n",
      "    \"name\": uuid4().hex[:12]\n",
      "}\n",
      "new_proj_response = gns3_session.post(GNS3_URL + \"/projects\", json=project_config)\n",
      "if new_proj_response.status_code != 201:\n",
      "    raise Exception('Ha ocurrido una excepcion: {}'.format(json.dumps(new_proj_response.json())))\n",
      "project_info = new_proj_response.json()\n",
      "print('Respuesta: {}'.format(json.dumps(project_info)))\n",
      "add_router(3)\n",
      "add_switch(2)\n",
      "add_virtualpc(1)```\n"
     ]
    }
   ],
   "source": [
    "with open(\"./test_execution.py\", \"r\", encoding=\"utf-8\") as f:\n",
    "    print(\"```python\\n{}```\".format(f.read()))"
   ]
  }
 ],
 "metadata": {
  "kernelspec": {
   "display_name": "venv",
   "language": "python",
   "name": "python3"
  },
  "language_info": {
   "codemirror_mode": {
    "name": "ipython",
    "version": 3
   },
   "file_extension": ".py",
   "mimetype": "text/x-python",
   "name": "python",
   "nbconvert_exporter": "python",
   "pygments_lexer": "ipython3",
   "version": "3.11.2"
  }
 },
 "nbformat": 4,
 "nbformat_minor": 2
}
