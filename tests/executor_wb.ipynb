{
 "cells": [
  {
   "cell_type": "code",
   "execution_count": 1,
   "metadata": {},
   "outputs": [],
   "source": [
    "import subprocess\n",
    "import os\n",
    "import json"
   ]
  },
  {
   "cell_type": "code",
   "execution_count": 2,
   "metadata": {},
   "outputs": [],
   "source": [
    "exec_out = subprocess.run([\"python\", \"test_execution.py\"], stdout=subprocess.PIPE).stdout.decode()#.splitlines()"
   ]
  },
  {
   "cell_type": "code",
   "execution_count": 3,
   "metadata": {},
   "outputs": [
    {
     "data": {
      "text/plain": [
       "['Proyecto: 1cfc3e16ba9e',\n",
       " 'Respuesta: {\"auto_close\": true, \"auto_open\": false, \"auto_start\": false, \"drawing_grid_size\": 25, \"filename\": \"1cfc3e16ba9e.gns3\", \"grid_size\": 75, \"name\": \"1cfc3e16ba9e\", \"path\": \"/home/ralvarez22/GNS3/projects/68546c1f-1b79-4b88-ad0e-cbe736bd1cf2\", \"project_id\": \"68546c1f-1b79-4b88-ad0e-cbe736bd1cf2\", \"scene_height\": 1000, \"scene_width\": 2000, \"show_grid\": false, \"show_interface_labels\": false, \"show_layers\": false, \"snap_to_grid\": false, \"status\": \"opened\", \"supplier\": null, \"variables\": null, \"zoom\": 100}',\n",
       " 'Respuesta: {\"command_line\": null, \"compute_id\": \"local\", \"console\": 5012, \"console_auto_start\": false, \"console_host\": \"0.0.0.0\", \"console_type\": \"telnet\", \"custom_adapters\": [], \"first_port_name\": null, \"height\": 45, \"label\": {\"rotation\": 0, \"style\": null, \"text\": \"R1\", \"x\": null, \"y\": -32}, \"locked\": false, \"name\": \"R1\", \"node_directory\": \"/home/ralvarez22/GNS3/projects/68546c1f-1b79-4b88-ad0e-cbe736bd1cf2/project-files/dynamips/8700e2c1-0c8a-4b6b-a7de-a6bb7d8db3ba\", \"node_id\": \"8700e2c1-0c8a-4b6b-a7de-a6bb7d8db3ba\", \"node_type\": \"dynamips\", \"port_name_format\": \"Ethernet{0}\", \"port_segment_size\": 0, \"ports\": [{\"adapter_number\": 0, \"data_link_types\": {\"Ethernet\": \"DLT_EN10MB\"}, \"link_type\": \"ethernet\", \"name\": \"FastEthernet0/0\", \"port_number\": 0, \"short_name\": \"f0/0\"}], \"project_id\": \"68546c1f-1b79-4b88-ad0e-cbe736bd1cf2\", \"properties\": {\"auto_delete_disks\": true, \"aux\": null, \"clock_divisor\": 4, \"disk0\": 0, \"disk1\": 0, \"dynamips_id\": 1, \"exec_area\": 64, \"idlemax\": 500, \"idlepc\": \"0x60796358\", \"idlesleep\": 30, \"image\": \"c7200-a3jk9s-mz.124-25g (1) (1).image\", \"image_md5sum\": \"9c7cc9b3f3b3571411a7f62faaa2c036\", \"mac_addr\": \"ca01.f69c.0000\", \"midplane\": \"vxr\", \"mmap\": true, \"npe\": \"npe-400\", \"nvram\": 512, \"platform\": \"c7200\", \"power_supplies\": [1, 1], \"ram\": 512, \"sensors\": [22, 22, 22, 22], \"slot0\": \"C7200-IO-FE\", \"slot1\": null, \"slot2\": null, \"slot3\": null, \"slot4\": null, \"slot5\": null, \"slot6\": null, \"sparsemem\": true, \"system_id\": \"FTX0945W0MY\", \"usage\": \"\"}, \"status\": \"stopped\", \"symbol\": \":/symbols/router.svg\", \"template_id\": \"61909209-f885-40e9-9922-b1e9e03d2034\", \"width\": 66, \"x\": 0, \"y\": 0, \"z\": 1}',\n",
       " 'Respuesta: {\"command_line\": null, \"compute_id\": \"local\", \"console\": 5013, \"console_auto_start\": false, \"console_host\": \"0.0.0.0\", \"console_type\": \"telnet\", \"custom_adapters\": [], \"first_port_name\": null, \"height\": 45, \"label\": {\"rotation\": 0, \"style\": null, \"text\": \"R2\", \"x\": null, \"y\": -32}, \"locked\": false, \"name\": \"R2\", \"node_directory\": \"/home/ralvarez22/GNS3/projects/68546c1f-1b79-4b88-ad0e-cbe736bd1cf2/project-files/dynamips/7e2e0b11-a78d-46d3-b0b0-00685706f418\", \"node_id\": \"7e2e0b11-a78d-46d3-b0b0-00685706f418\", \"node_type\": \"dynamips\", \"port_name_format\": \"Ethernet{0}\", \"port_segment_size\": 0, \"ports\": [{\"adapter_number\": 0, \"data_link_types\": {\"Ethernet\": \"DLT_EN10MB\"}, \"link_type\": \"ethernet\", \"name\": \"FastEthernet0/0\", \"port_number\": 0, \"short_name\": \"f0/0\"}], \"project_id\": \"68546c1f-1b79-4b88-ad0e-cbe736bd1cf2\", \"properties\": {\"auto_delete_disks\": true, \"aux\": null, \"clock_divisor\": 4, \"disk0\": 0, \"disk1\": 0, \"dynamips_id\": 2, \"exec_area\": 64, \"idlemax\": 500, \"idlepc\": \"0x60796358\", \"idlesleep\": 30, \"image\": \"c7200-a3jk9s-mz.124-25g (1) (1).image\", \"image_md5sum\": \"9c7cc9b3f3b3571411a7f62faaa2c036\", \"mac_addr\": \"ca02.f6ba.0000\", \"midplane\": \"vxr\", \"mmap\": true, \"npe\": \"npe-400\", \"nvram\": 512, \"platform\": \"c7200\", \"power_supplies\": [1, 1], \"ram\": 512, \"sensors\": [22, 22, 22, 22], \"slot0\": \"C7200-IO-FE\", \"slot1\": null, \"slot2\": null, \"slot3\": null, \"slot4\": null, \"slot5\": null, \"slot6\": null, \"sparsemem\": true, \"system_id\": \"FTX0945W0MY\", \"usage\": \"\"}, \"status\": \"stopped\", \"symbol\": \":/symbols/router.svg\", \"template_id\": \"61909209-f885-40e9-9922-b1e9e03d2034\", \"width\": 66, \"x\": 0, \"y\": 0, \"z\": 1}',\n",
       " 'Respuesta: {\"command_line\": null, \"compute_id\": \"local\", \"console\": 5014, \"console_auto_start\": false, \"console_host\": \"0.0.0.0\", \"console_type\": \"none\", \"custom_adapters\": [], \"first_port_name\": null, \"height\": 32, \"label\": {\"rotation\": 0, \"style\": null, \"text\": \"Switch1\", \"x\": null, \"y\": -26}, \"locked\": false, \"name\": \"Switch1\", \"node_directory\": null, \"node_id\": \"78639265-1a5b-4c4e-ab60-dac8a08eba4d\", \"node_type\": \"ethernet_switch\", \"port_name_format\": \"Ethernet{0}\", \"port_segment_size\": 0, \"ports\": [{\"adapter_number\": 0, \"data_link_types\": {\"Ethernet\": \"DLT_EN10MB\"}, \"link_type\": \"ethernet\", \"name\": \"Ethernet0\", \"port_number\": 0, \"short_name\": \"e0\"}, {\"adapter_number\": 0, \"data_link_types\": {\"Ethernet\": \"DLT_EN10MB\"}, \"link_type\": \"ethernet\", \"name\": \"Ethernet1\", \"port_number\": 1, \"short_name\": \"e1\"}, {\"adapter_number\": 0, \"data_link_types\": {\"Ethernet\": \"DLT_EN10MB\"}, \"link_type\": \"ethernet\", \"name\": \"Ethernet2\", \"port_number\": 2, \"short_name\": \"e2\"}, {\"adapter_number\": 0, \"data_link_types\": {\"Ethernet\": \"DLT_EN10MB\"}, \"link_type\": \"ethernet\", \"name\": \"Ethernet3\", \"port_number\": 3, \"short_name\": \"e3\"}, {\"adapter_number\": 0, \"data_link_types\": {\"Ethernet\": \"DLT_EN10MB\"}, \"link_type\": \"ethernet\", \"name\": \"Ethernet4\", \"port_number\": 4, \"short_name\": \"e4\"}, {\"adapter_number\": 0, \"data_link_types\": {\"Ethernet\": \"DLT_EN10MB\"}, \"link_type\": \"ethernet\", \"name\": \"Ethernet5\", \"port_number\": 5, \"short_name\": \"e5\"}, {\"adapter_number\": 0, \"data_link_types\": {\"Ethernet\": \"DLT_EN10MB\"}, \"link_type\": \"ethernet\", \"name\": \"Ethernet6\", \"port_number\": 6, \"short_name\": \"e6\"}, {\"adapter_number\": 0, \"data_link_types\": {\"Ethernet\": \"DLT_EN10MB\"}, \"link_type\": \"ethernet\", \"name\": \"Ethernet7\", \"port_number\": 7, \"short_name\": \"e7\"}], \"project_id\": \"68546c1f-1b79-4b88-ad0e-cbe736bd1cf2\", \"properties\": {\"ports_mapping\": [{\"name\": \"Ethernet0\", \"port_number\": 0, \"type\": \"access\", \"vlan\": 1}, {\"name\": \"Ethernet1\", \"port_number\": 1, \"type\": \"access\", \"vlan\": 1}, {\"name\": \"Ethernet2\", \"port_number\": 2, \"type\": \"access\", \"vlan\": 1}, {\"name\": \"Ethernet3\", \"port_number\": 3, \"type\": \"access\", \"vlan\": 1}, {\"name\": \"Ethernet4\", \"port_number\": 4, \"type\": \"access\", \"vlan\": 1}, {\"name\": \"Ethernet5\", \"port_number\": 5, \"type\": \"access\", \"vlan\": 1}, {\"name\": \"Ethernet6\", \"port_number\": 6, \"type\": \"access\", \"vlan\": 1}, {\"name\": \"Ethernet7\", \"port_number\": 7, \"type\": \"access\", \"vlan\": 1}]}, \"status\": \"started\", \"symbol\": \":/symbols/ethernet_switch.svg\", \"template_id\": \"1966b864-93e7-32d5-965f-001384eec461\", \"width\": 72, \"x\": 0, \"y\": 0, \"z\": 1}',\n",
       " 'Respuesta: {\"command_line\": \"\", \"compute_id\": \"local\", \"console\": 5015, \"console_auto_start\": false, \"console_host\": \"0.0.0.0\", \"console_type\": \"telnet\", \"custom_adapters\": [], \"first_port_name\": null, \"height\": 59, \"label\": {\"rotation\": 0, \"style\": null, \"text\": \"PC1\", \"x\": null, \"y\": -40}, \"locked\": false, \"name\": \"PC1\", \"node_directory\": \"/home/ralvarez22/GNS3/projects/68546c1f-1b79-4b88-ad0e-cbe736bd1cf2/project-files/vpcs/cec4bd7a-6cd5-41a6-95cd-cf48f549cda5\", \"node_id\": \"cec4bd7a-6cd5-41a6-95cd-cf48f549cda5\", \"node_type\": \"vpcs\", \"port_name_format\": \"Ethernet{0}\", \"port_segment_size\": 0, \"ports\": [{\"adapter_number\": 0, \"data_link_types\": {\"Ethernet\": \"DLT_EN10MB\"}, \"link_type\": \"ethernet\", \"name\": \"Ethernet0\", \"port_number\": 0, \"short_name\": \"e0\"}], \"project_id\": \"68546c1f-1b79-4b88-ad0e-cbe736bd1cf2\", \"properties\": {}, \"status\": \"stopped\", \"symbol\": \":/symbols/vpcs_guest.svg\", \"template_id\": \"19021f99-e36f-394d-b4a1-8aaa902ab9cc\", \"width\": 65, \"x\": 0, \"y\": 0, \"z\": 1}',\n",
       " 'Respuesta: {\"command_line\": \"\", \"compute_id\": \"local\", \"console\": 5017, \"console_auto_start\": false, \"console_host\": \"0.0.0.0\", \"console_type\": \"telnet\", \"custom_adapters\": [], \"first_port_name\": null, \"height\": 59, \"label\": {\"rotation\": 0, \"style\": null, \"text\": \"PC2\", \"x\": null, \"y\": -40}, \"locked\": false, \"name\": \"PC2\", \"node_directory\": \"/home/ralvarez22/GNS3/projects/68546c1f-1b79-4b88-ad0e-cbe736bd1cf2/project-files/vpcs/9b521901-3fa1-4a05-93d4-10ff65282643\", \"node_id\": \"9b521901-3fa1-4a05-93d4-10ff65282643\", \"node_type\": \"vpcs\", \"port_name_format\": \"Ethernet{0}\", \"port_segment_size\": 0, \"ports\": [{\"adapter_number\": 0, \"data_link_types\": {\"Ethernet\": \"DLT_EN10MB\"}, \"link_type\": \"ethernet\", \"name\": \"Ethernet0\", \"port_number\": 0, \"short_name\": \"e0\"}], \"project_id\": \"68546c1f-1b79-4b88-ad0e-cbe736bd1cf2\", \"properties\": {}, \"status\": \"stopped\", \"symbol\": \":/symbols/vpcs_guest.svg\", \"template_id\": \"19021f99-e36f-394d-b4a1-8aaa902ab9cc\", \"width\": 65, \"x\": 0, \"y\": 0, \"z\": 1}',\n",
       " 'Respuesta: {\"command_line\": \"\", \"compute_id\": \"local\", \"console\": 5019, \"console_auto_start\": false, \"console_host\": \"0.0.0.0\", \"console_type\": \"telnet\", \"custom_adapters\": [], \"first_port_name\": null, \"height\": 59, \"label\": {\"rotation\": 0, \"style\": null, \"text\": \"PC3\", \"x\": null, \"y\": -40}, \"locked\": false, \"name\": \"PC3\", \"node_directory\": \"/home/ralvarez22/GNS3/projects/68546c1f-1b79-4b88-ad0e-cbe736bd1cf2/project-files/vpcs/05672093-b841-4c41-9242-43256e87bc44\", \"node_id\": \"05672093-b841-4c41-9242-43256e87bc44\", \"node_type\": \"vpcs\", \"port_name_format\": \"Ethernet{0}\", \"port_segment_size\": 0, \"ports\": [{\"adapter_number\": 0, \"data_link_types\": {\"Ethernet\": \"DLT_EN10MB\"}, \"link_type\": \"ethernet\", \"name\": \"Ethernet0\", \"port_number\": 0, \"short_name\": \"e0\"}], \"project_id\": \"68546c1f-1b79-4b88-ad0e-cbe736bd1cf2\", \"properties\": {}, \"status\": \"stopped\", \"symbol\": \":/symbols/vpcs_guest.svg\", \"template_id\": \"19021f99-e36f-394d-b4a1-8aaa902ab9cc\", \"width\": 65, \"x\": 0, \"y\": 0, \"z\": 1}',\n",
       " 'Respuesta: {\"capture_compute_id\": null, \"capture_file_name\": null, \"capture_file_path\": null, \"capturing\": false, \"filters\": {}, \"link_id\": \"27242040-e406-457f-b03b-71c1df8f6810\", \"link_style\": {}, \"link_type\": \"ethernet\", \"nodes\": [{\"adapter_number\": 0, \"label\": {\"style\": \"font-family: TypeWriter;font-size: 10.0;font-weight: bold;fill: #000000;fill-opacity: 1.0;\", \"text\": \"0/0\"}, \"node_id\": \"8700e2c1-0c8a-4b6b-a7de-a6bb7d8db3ba\", \"port_number\": 0}, {\"adapter_number\": 0, \"label\": {\"style\": \"font-family: TypeWriter;font-size: 10.0;font-weight: bold;fill: #000000;fill-opacity: 1.0;\", \"text\": \"0/0\"}, \"node_id\": \"78639265-1a5b-4c4e-ab60-dac8a08eba4d\", \"port_number\": 0}], \"project_id\": \"68546c1f-1b79-4b88-ad0e-cbe736bd1cf2\", \"suspend\": false}',\n",
       " 'Respuesta: {\"capture_compute_id\": null, \"capture_file_name\": null, \"capture_file_path\": null, \"capturing\": false, \"filters\": {}, \"link_id\": \"7f09e38f-ab8a-4939-bdf3-f2e426af67a3\", \"link_style\": {}, \"link_type\": \"ethernet\", \"nodes\": [{\"adapter_number\": 0, \"label\": {\"style\": \"font-family: TypeWriter;font-size: 10.0;font-weight: bold;fill: #000000;fill-opacity: 1.0;\", \"text\": \"0/0\"}, \"node_id\": \"7e2e0b11-a78d-46d3-b0b0-00685706f418\", \"port_number\": 0}, {\"adapter_number\": 0, \"label\": {\"style\": \"font-family: TypeWriter;font-size: 10.0;font-weight: bold;fill: #000000;fill-opacity: 1.0;\", \"text\": \"0/1\"}, \"node_id\": \"78639265-1a5b-4c4e-ab60-dac8a08eba4d\", \"port_number\": 1}], \"project_id\": \"68546c1f-1b79-4b88-ad0e-cbe736bd1cf2\", \"suspend\": false}',\n",
       " 'Respuesta: {\"capture_compute_id\": null, \"capture_file_name\": null, \"capture_file_path\": null, \"capturing\": false, \"filters\": {}, \"link_id\": \"4d581116-6025-4d88-b73f-ac5a73f7d74b\", \"link_style\": {}, \"link_type\": \"ethernet\", \"nodes\": [{\"adapter_number\": 0, \"label\": {\"style\": \"font-family: TypeWriter;font-size: 10.0;font-weight: bold;fill: #000000;fill-opacity: 1.0;\", \"text\": \"0/2\"}, \"node_id\": \"78639265-1a5b-4c4e-ab60-dac8a08eba4d\", \"port_number\": 2}, {\"adapter_number\": 0, \"label\": {\"style\": \"font-family: TypeWriter;font-size: 10.0;font-weight: bold;fill: #000000;fill-opacity: 1.0;\", \"text\": \"0/0\"}, \"node_id\": \"cec4bd7a-6cd5-41a6-95cd-cf48f549cda5\", \"port_number\": 0}], \"project_id\": \"68546c1f-1b79-4b88-ad0e-cbe736bd1cf2\", \"suspend\": false}',\n",
       " 'Respuesta: {\"capture_compute_id\": null, \"capture_file_name\": null, \"capture_file_path\": null, \"capturing\": false, \"filters\": {}, \"link_id\": \"1be98f2d-78c1-4de0-979c-6d93368a0407\", \"link_style\": {}, \"link_type\": \"ethernet\", \"nodes\": [{\"adapter_number\": 0, \"label\": {\"style\": \"font-family: TypeWriter;font-size: 10.0;font-weight: bold;fill: #000000;fill-opacity: 1.0;\", \"text\": \"0/3\"}, \"node_id\": \"78639265-1a5b-4c4e-ab60-dac8a08eba4d\", \"port_number\": 3}, {\"adapter_number\": 0, \"label\": {\"style\": \"font-family: TypeWriter;font-size: 10.0;font-weight: bold;fill: #000000;fill-opacity: 1.0;\", \"text\": \"0/0\"}, \"node_id\": \"9b521901-3fa1-4a05-93d4-10ff65282643\", \"port_number\": 0}], \"project_id\": \"68546c1f-1b79-4b88-ad0e-cbe736bd1cf2\", \"suspend\": false}',\n",
       " 'Respuesta: {\"capture_compute_id\": null, \"capture_file_name\": null, \"capture_file_path\": null, \"capturing\": false, \"filters\": {}, \"link_id\": \"22339844-269e-44e3-937c-2adc15ecb1d9\", \"link_style\": {}, \"link_type\": \"ethernet\", \"nodes\": [{\"adapter_number\": 0, \"label\": {\"style\": \"font-family: TypeWriter;font-size: 10.0;font-weight: bold;fill: #000000;fill-opacity: 1.0;\", \"text\": \"0/4\"}, \"node_id\": \"78639265-1a5b-4c4e-ab60-dac8a08eba4d\", \"port_number\": 4}, {\"adapter_number\": 0, \"label\": {\"style\": \"font-family: TypeWriter;font-size: 10.0;font-weight: bold;fill: #000000;fill-opacity: 1.0;\", \"text\": \"0/0\"}, \"node_id\": \"05672093-b841-4c41-9242-43256e87bc44\", \"port_number\": 0}], \"project_id\": \"68546c1f-1b79-4b88-ad0e-cbe736bd1cf2\", \"suspend\": false}',\n",
       " 'Respuesta: Se ha encendido el dispositivo 8700e2c1-0c8a-4b6b-a7de-a6bb7d8db3ba',\n",
       " 'Respuesta: Se ha encendido el dispositivo 7e2e0b11-a78d-46d3-b0b0-00685706f418',\n",
       " 'Respuesta: Se ha encendido el dispositivo cec4bd7a-6cd5-41a6-95cd-cf48f549cda5',\n",
       " 'Respuesta: Se ha encendido el dispositivo 9b521901-3fa1-4a05-93d4-10ff65282643',\n",
       " 'Respuesta: Se ha encendido el dispositivo 05672093-b841-4c41-9242-43256e87bc44']"
      ]
     },
     "execution_count": 3,
     "metadata": {},
     "output_type": "execute_result"
    }
   ],
   "source": [
    "exec_out.splitlines()"
   ]
  },
  {
   "cell_type": "code",
   "execution_count": 1,
   "metadata": {},
   "outputs": [
    {
     "name": "stdout",
     "output_type": "stream",
     "text": [
      "\u001b[32m2024-04-13 14:43:39 INFO root:126\u001b[0m Log level: INFO\u001b[0m\n",
      "\u001b[32m2024-04-13 14:43:39 INFO main:260\u001b[0m GNS3 GUI version 2.2.43\u001b[0m\n",
      "\u001b[32m2024-04-13 14:43:39 INFO main:261\u001b[0m Copyright (c) 2007-2024 GNS3 Technologies Inc.\u001b[0m\n",
      "\u001b[32m2024-04-13 14:43:39 INFO main:262\u001b[0m Application started with /home/ralvarez22/server/lib/python3.11/site-packages/gns3/__main__.py\u001b[0m\n"
     ]
    }
   ],
   "source": [
    "!/home/ralvarez22/server/bin/python -m gns3"
   ]
  },
  {
   "cell_type": "code",
   "execution_count": null,
   "metadata": {},
   "outputs": [],
   "source": [
    "#import pyautogui\n",
    "from selenium.webdriver import Chrome, ChromeOptions\n",
    "from selenium.webdriver.common.by import By\n",
    "from time import sleep"
   ]
  },
  {
   "cell_type": "code",
   "execution_count": null,
   "metadata": {},
   "outputs": [],
   "source": [
    "opts = ChromeOptions()\n",
    "\n",
    "opts.add_argument(\"--headless\")\n",
    "#opts.add_argument(\"window-size=1920,1080\")\n",
    "\n",
    "driver = Chrome(options=opts)\n",
    "driver.set_window_size(1920, 1080)\n",
    "\n",
    "#driver.maximize_window()\n",
    "\n",
    "driver.get(\"http://localhost:3080\")\n",
    "driver.get(\"http://localhost:3080/static/web-ui/server/1/project/08212de4-fc5f-4a67-87a8-421239b3ca6c\")\n",
    "driver.find_element(By.XPATH, \"/html/body/app-root/div/app-project-map/div/div[2]/div[2]/app-project-map-menu/button[7]\" ).click()\n",
    "sleep(1)\n",
    "driver.find_element(By.XPATH, \"/html/body/div[1]/div[2]/div/mat-dialog-container/app-screenshot-dialog/form/div/button[2]\").click()\n",
    "#sleep(4)\n",
    "#driver.save_screenshot(\"test.png\")\n"
   ]
  }
 ],
 "metadata": {
  "kernelspec": {
   "display_name": "venv",
   "language": "python",
   "name": "python3"
  },
  "language_info": {
   "codemirror_mode": {
    "name": "ipython",
    "version": 3
   },
   "file_extension": ".py",
   "mimetype": "text/x-python",
   "name": "python",
   "nbconvert_exporter": "python",
   "pygments_lexer": "ipython3",
   "version": "3.11.2"
  }
 },
 "nbformat": 4,
 "nbformat_minor": 2
}
