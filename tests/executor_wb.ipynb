{
 "cells": [
  {
   "cell_type": "code",
   "execution_count": 1,
   "metadata": {},
   "outputs": [],
   "source": [
    "import subprocess\n",
    "import os\n",
    "import json"
   ]
  },
  {
   "cell_type": "code",
   "execution_count": 7,
   "metadata": {},
   "outputs": [],
   "source": [
    "exec_out = subprocess.run([\"python\", \"test_execution.py\"], stdout=subprocess.PIPE).stdout.decode()#.splitlines()"
   ]
  },
  {
   "cell_type": "code",
   "execution_count": 12,
   "metadata": {},
   "outputs": [
    {
     "data": {
      "text/plain": [
       "'Respuesta: {\"auto_close\": true, \"auto_open\": false, \"auto_start\": false, \"drawing_grid_size\": 25, \"filename\": \"a135dae5e312.gns3\", \"grid_size\": 75, \"name\": \"a135dae5e312\", \"path\": \"/home/ralvarez22/GNS3/projects/6d443a42-8d77-4f48-9b5d-34d4c1d10b3f\", \"project_id\": \"6d443a42-8d77-4f48-9b5d-34d4c1d10b3f\", \"scene_height\": 1000, \"scene_width\": 2000, \"show_grid\": false, \"show_interface_labels\": false, \"show_layers\": false, \"snap_to_grid\": false, \"status\": \"opened\", \"supplier\": null, \"variables\": null, \"zoom\": 100}\\nRespuesta: {\"command_line\": null, \"compute_id\": \"local\", \"console\": 5002, \"console_auto_start\": false, \"console_host\": \"0.0.0.0\", \"console_type\": \"telnet\", \"custom_adapters\": [], \"first_port_name\": null, \"height\": 45, \"label\": {\"rotation\": 0, \"style\": null, \"text\": \"R1\", \"x\": null, \"y\": -32}, \"locked\": false, \"name\": \"R1\", \"node_directory\": \"/home/ralvarez22/GNS3/projects/6d443a42-8d77-4f48-9b5d-34d4c1d10b3f/project-files/dynamips/c47fd3c6-b5c0-4c94-ab41-b25efae069e7\", \"node_id\": \"c47fd3c6-b5c0-4c94-ab41-b25efae069e7\", \"node_type\": \"dynamips\", \"port_name_format\": \"Ethernet{0}\", \"port_segment_size\": 0, \"ports\": [{\"adapter_number\": 0, \"data_link_types\": {\"Ethernet\": \"DLT_EN10MB\"}, \"link_type\": \"ethernet\", \"name\": \"FastEthernet0/0\", \"port_number\": 0, \"short_name\": \"f0/0\"}], \"project_id\": \"6d443a42-8d77-4f48-9b5d-34d4c1d10b3f\", \"properties\": {\"auto_delete_disks\": true, \"aux\": null, \"clock_divisor\": 4, \"disk0\": 0, \"disk1\": 0, \"dynamips_id\": 1, \"exec_area\": 64, \"idlemax\": 500, \"idlepc\": \"0x60796358\", \"idlesleep\": 30, \"image\": \"c7200-a3jk9s-mz.124-25g (1) (1).image\", \"image_md5sum\": \"9c7cc9b3f3b3571411a7f62faaa2c036\", \"mac_addr\": \"ca01.942e.0000\", \"midplane\": \"vxr\", \"mmap\": true, \"npe\": \"npe-400\", \"nvram\": 512, \"platform\": \"c7200\", \"power_supplies\": [1, 1], \"ram\": 512, \"sensors\": [22, 22, 22, 22], \"slot0\": \"C7200-IO-FE\", \"slot1\": null, \"slot2\": null, \"slot3\": null, \"slot4\": null, \"slot5\": null, \"slot6\": null, \"sparsemem\": true, \"system_id\": \"FTX0945W0MY\", \"usage\": \"\"}, \"status\": \"stopped\", \"symbol\": \":/symbols/router.svg\", \"template_id\": \"61909209-f885-40e9-9922-b1e9e03d2034\", \"width\": 66, \"x\": 0, \"y\": 0, \"z\": 1}\\nRespuesta: {\"command_line\": null, \"compute_id\": \"local\", \"console\": 5002, \"console_auto_start\": false, \"console_host\": \"0.0.0.0\", \"console_type\": \"telnet\", \"custom_adapters\": [], \"first_port_name\": null, \"height\": 45, \"label\": {\"rotation\": 0, \"style\": null, \"text\": \"R1\", \"x\": null, \"y\": -32}, \"locked\": false, \"name\": \"R1\", \"node_directory\": \"/home/ralvarez22/GNS3/projects/6d443a42-8d77-4f48-9b5d-34d4c1d10b3f/project-files/dynamips/c47fd3c6-b5c0-4c94-ab41-b25efae069e7\", \"node_id\": \"c47fd3c6-b5c0-4c94-ab41-b25efae069e7\", \"node_type\": \"dynamips\", \"port_name_format\": \"Ethernet{0}\", \"port_segment_size\": 0, \"ports\": [{\"adapter_number\": 0, \"data_link_types\": {\"Ethernet\": \"DLT_EN10MB\"}, \"link_type\": \"ethernet\", \"name\": \"FastEthernet0/0\", \"port_number\": 0, \"short_name\": \"f0/0\"}], \"project_id\": \"6d443a42-8d77-4f48-9b5d-34d4c1d10b3f\", \"properties\": {\"auto_delete_disks\": true, \"aux\": null, \"clock_divisor\": 4, \"disk0\": 0, \"disk1\": 0, \"dynamips_id\": 1, \"exec_area\": 64, \"idlemax\": 500, \"idlepc\": \"0x60796358\", \"idlesleep\": 30, \"image\": \"c7200-a3jk9s-mz.124-25g (1) (1).image\", \"image_md5sum\": \"9c7cc9b3f3b3571411a7f62faaa2c036\", \"mac_addr\": \"ca01.942e.0000\", \"midplane\": \"vxr\", \"mmap\": true, \"npe\": \"npe-400\", \"nvram\": 512, \"platform\": \"c7200\", \"power_supplies\": [1, 1], \"ram\": 512, \"sensors\": [22, 22, 22, 22], \"slot0\": \"C7200-IO-FE\", \"slot1\": null, \"slot2\": null, \"slot3\": null, \"slot4\": null, \"slot5\": null, \"slot6\": null, \"sparsemem\": true, \"system_id\": \"FTX0945W0MY\", \"usage\": \"\"}, \"status\": \"stopped\", \"symbol\": \":/symbols/router.svg\", \"template_id\": \"61909209-f885-40e9-9922-b1e9e03d2034\", \"width\": 66, \"x\": 0, \"y\": 0, \"z\": 1}\\nRespuesta: sh run\\r\\nBuilding configuration...\\r\\n\\r\\nCurrent configuration : 744 bytes\\r\\n!\\r\\nversion 12.4\\r\\nservice timestamps debug datetime msec\\r\\nservice timestamps log datetime msec\\r\\nno service password-encryption\\r\\n!\\r\\nhostname R1\\r\\n!\\r\\nboot-start-marker\\r\\nboot-end-marker\\r\\n!\\r\\n!\\r\\nno aaa new-model\\r\\nno ip icmp rate-limit unreachable\\r\\n!\\r\\n!\\r\\nip cef\\r\\nno ip domain lookup\\r\\n!\\r\\n!\\r\\n!\\r\\n!\\r\\n!\\r\\n!\\r\\n!\\r\\n!\\r\\n!\\r\\n!\\r\\n!\\r\\n!\\r\\n!\\r\\n!\\r\\n!\\r\\n!\\r\\n!\\r\\n!\\r\\nip tcp synwait-time 5\\r\\n! \\r\\n!\\r\\n!\\r\\n!\\r\\n!\\r\\ninterface FastEthernet0/0\\r\\n no ip address\\r\\n shutdown\\r\\n duplex half\\r\\n!\\r\\n!\\r\\nip forward-protocol nd\\r\\n!\\r\\nno ip http server\\r\\nno ip http secure-server\\r\\n!\\r\\n!\\r\\nno cdp log mismatch duplex\\r\\n!\\r\\n!\\r\\n!\\r\\ncontrol-plane\\r\\n!\\r\\n!\\r\\n!\\r\\n!\\r\\n!\\r\\n!\\r\\ngatekeeper\\r\\n shutdown\\r\\n!\\r\\n!\\r\\nline con 0\\r\\n exec-timeout 0 0\\r\\n privilege level 15\\r\\n logging synchronous\\r\\n stopbits 1\\r\\nline aux 0\\r\\n exec-timeout 0 0\\r\\n privilege level 15\\r\\n logging synchronous\\r\\n stopbits 1\\r\\nline vty 0 4\\r\\n login\\r\\n!\\r\\n!\\r\\nend\\r\\n\\r\\nR1\\n'"
      ]
     },
     "execution_count": 12,
     "metadata": {},
     "output_type": "execute_result"
    }
   ],
   "source": [
    "exec_out"
   ]
  },
  {
   "cell_type": "code",
   "execution_count": 11,
   "metadata": {},
   "outputs": [
    {
     "data": {
      "text/plain": [
       "['',\n",
       " ': {\"auto_close\": true, \"auto_open\": false, \"auto_start\": false, \"drawing_grid_size\": 25, \"filename\": \"a135dae5e312.gns3\", \"grid_size\": 75, \"name\": \"a135dae5e312\", \"path\": \"/home/ralvarez22/GNS3/projects/6d443a42-8d77-4f48-9b5d-34d4c1d10b3f\", \"project_id\": \"6d443a42-8d77-4f48-9b5d-34d4c1d10b3f\", \"scene_height\": 1000, \"scene_width\": 2000, \"show_grid\": false, \"show_interface_labels\": false, \"show_layers\": false, \"snap_to_grid\": false, \"status\": \"opened\", \"supplier\": null, \"variables\": null, \"zoom\": 100}\\n',\n",
       " ': {\"command_line\": null, \"compute_id\": \"local\", \"console\": 5002, \"console_auto_start\": false, \"console_host\": \"0.0.0.0\", \"console_type\": \"telnet\", \"custom_adapters\": [], \"first_port_name\": null, \"height\": 45, \"label\": {\"rotation\": 0, \"style\": null, \"text\": \"R1\", \"x\": null, \"y\": -32}, \"locked\": false, \"name\": \"R1\", \"node_directory\": \"/home/ralvarez22/GNS3/projects/6d443a42-8d77-4f48-9b5d-34d4c1d10b3f/project-files/dynamips/c47fd3c6-b5c0-4c94-ab41-b25efae069e7\", \"node_id\": \"c47fd3c6-b5c0-4c94-ab41-b25efae069e7\", \"node_type\": \"dynamips\", \"port_name_format\": \"Ethernet{0}\", \"port_segment_size\": 0, \"ports\": [{\"adapter_number\": 0, \"data_link_types\": {\"Ethernet\": \"DLT_EN10MB\"}, \"link_type\": \"ethernet\", \"name\": \"FastEthernet0/0\", \"port_number\": 0, \"short_name\": \"f0/0\"}], \"project_id\": \"6d443a42-8d77-4f48-9b5d-34d4c1d10b3f\", \"properties\": {\"auto_delete_disks\": true, \"aux\": null, \"clock_divisor\": 4, \"disk0\": 0, \"disk1\": 0, \"dynamips_id\": 1, \"exec_area\": 64, \"idlemax\": 500, \"idlepc\": \"0x60796358\", \"idlesleep\": 30, \"image\": \"c7200-a3jk9s-mz.124-25g (1) (1).image\", \"image_md5sum\": \"9c7cc9b3f3b3571411a7f62faaa2c036\", \"mac_addr\": \"ca01.942e.0000\", \"midplane\": \"vxr\", \"mmap\": true, \"npe\": \"npe-400\", \"nvram\": 512, \"platform\": \"c7200\", \"power_supplies\": [1, 1], \"ram\": 512, \"sensors\": [22, 22, 22, 22], \"slot0\": \"C7200-IO-FE\", \"slot1\": null, \"slot2\": null, \"slot3\": null, \"slot4\": null, \"slot5\": null, \"slot6\": null, \"sparsemem\": true, \"system_id\": \"FTX0945W0MY\", \"usage\": \"\"}, \"status\": \"stopped\", \"symbol\": \":/symbols/router.svg\", \"template_id\": \"61909209-f885-40e9-9922-b1e9e03d2034\", \"width\": 66, \"x\": 0, \"y\": 0, \"z\": 1}\\n',\n",
       " ': {\"command_line\": null, \"compute_id\": \"local\", \"console\": 5002, \"console_auto_start\": false, \"console_host\": \"0.0.0.0\", \"console_type\": \"telnet\", \"custom_adapters\": [], \"first_port_name\": null, \"height\": 45, \"label\": {\"rotation\": 0, \"style\": null, \"text\": \"R1\", \"x\": null, \"y\": -32}, \"locked\": false, \"name\": \"R1\", \"node_directory\": \"/home/ralvarez22/GNS3/projects/6d443a42-8d77-4f48-9b5d-34d4c1d10b3f/project-files/dynamips/c47fd3c6-b5c0-4c94-ab41-b25efae069e7\", \"node_id\": \"c47fd3c6-b5c0-4c94-ab41-b25efae069e7\", \"node_type\": \"dynamips\", \"port_name_format\": \"Ethernet{0}\", \"port_segment_size\": 0, \"ports\": [{\"adapter_number\": 0, \"data_link_types\": {\"Ethernet\": \"DLT_EN10MB\"}, \"link_type\": \"ethernet\", \"name\": \"FastEthernet0/0\", \"port_number\": 0, \"short_name\": \"f0/0\"}], \"project_id\": \"6d443a42-8d77-4f48-9b5d-34d4c1d10b3f\", \"properties\": {\"auto_delete_disks\": true, \"aux\": null, \"clock_divisor\": 4, \"disk0\": 0, \"disk1\": 0, \"dynamips_id\": 1, \"exec_area\": 64, \"idlemax\": 500, \"idlepc\": \"0x60796358\", \"idlesleep\": 30, \"image\": \"c7200-a3jk9s-mz.124-25g (1) (1).image\", \"image_md5sum\": \"9c7cc9b3f3b3571411a7f62faaa2c036\", \"mac_addr\": \"ca01.942e.0000\", \"midplane\": \"vxr\", \"mmap\": true, \"npe\": \"npe-400\", \"nvram\": 512, \"platform\": \"c7200\", \"power_supplies\": [1, 1], \"ram\": 512, \"sensors\": [22, 22, 22, 22], \"slot0\": \"C7200-IO-FE\", \"slot1\": null, \"slot2\": null, \"slot3\": null, \"slot4\": null, \"slot5\": null, \"slot6\": null, \"sparsemem\": true, \"system_id\": \"FTX0945W0MY\", \"usage\": \"\"}, \"status\": \"stopped\", \"symbol\": \":/symbols/router.svg\", \"template_id\": \"61909209-f885-40e9-9922-b1e9e03d2034\", \"width\": 66, \"x\": 0, \"y\": 0, \"z\": 1}\\n',\n",
       " ': sh run\\r\\nBuilding configuration...\\r\\n\\r\\nCurrent configuration : 744 bytes\\r\\n!\\r\\nversion 12.4\\r\\nservice timestamps debug datetime msec\\r\\nservice timestamps log datetime msec\\r\\nno service password-encryption\\r\\n!\\r\\nhostname R1\\r\\n!\\r\\nboot-start-marker\\r\\nboot-end-marker\\r\\n!\\r\\n!\\r\\nno aaa new-model\\r\\nno ip icmp rate-limit unreachable\\r\\n!\\r\\n!\\r\\nip cef\\r\\nno ip domain lookup\\r\\n!\\r\\n!\\r\\n!\\r\\n!\\r\\n!\\r\\n!\\r\\n!\\r\\n!\\r\\n!\\r\\n!\\r\\n!\\r\\n!\\r\\n!\\r\\n!\\r\\n!\\r\\n!\\r\\n!\\r\\n!\\r\\nip tcp synwait-time 5\\r\\n! \\r\\n!\\r\\n!\\r\\n!\\r\\n!\\r\\ninterface FastEthernet0/0\\r\\n no ip address\\r\\n shutdown\\r\\n duplex half\\r\\n!\\r\\n!\\r\\nip forward-protocol nd\\r\\n!\\r\\nno ip http server\\r\\nno ip http secure-server\\r\\n!\\r\\n!\\r\\nno cdp log mismatch duplex\\r\\n!\\r\\n!\\r\\n!\\r\\ncontrol-plane\\r\\n!\\r\\n!\\r\\n!\\r\\n!\\r\\n!\\r\\n!\\r\\ngatekeeper\\r\\n shutdown\\r\\n!\\r\\n!\\r\\nline con 0\\r\\n exec-timeout 0 0\\r\\n privilege level 15\\r\\n logging synchronous\\r\\n stopbits 1\\r\\nline aux 0\\r\\n exec-timeout 0 0\\r\\n privilege level 15\\r\\n logging synchronous\\r\\n stopbits 1\\r\\nline vty 0 4\\r\\n login\\r\\n!\\r\\n!\\r\\nend\\r\\n\\r\\nR1\\n']"
      ]
     },
     "execution_count": 11,
     "metadata": {},
     "output_type": "execute_result"
    }
   ],
   "source": [
    "exec_out.split(\"Respuesta\")"
   ]
  }
 ],
 "metadata": {
  "kernelspec": {
   "display_name": "venv",
   "language": "python",
   "name": "python3"
  },
  "language_info": {
   "codemirror_mode": {
    "name": "ipython",
    "version": 3
   },
   "file_extension": ".py",
   "mimetype": "text/x-python",
   "name": "python",
   "nbconvert_exporter": "python",
   "pygments_lexer": "ipython3",
   "version": "3.11.2"
  }
 },
 "nbformat": 4,
 "nbformat_minor": 2
}
